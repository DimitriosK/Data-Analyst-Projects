{
 "cells": [
  {
   "cell_type": "markdown",
   "id": "fa5f89c0",
   "metadata": {},
   "source": [
    "## Report\n",
    "\n",
    "The goal of this project was to analyze and visualize the dataset that was the tweet archive of Twitter user [@dog_rates](https://twitter.com/dog_rates). The data were gathered from three different sources. In particular, we got our data from the file `twitter_archive_enhanced.csv` which had information about the images depicting dogs and other objects. This information included names of the objects, dog stage of dogs in case the image depicting a dog, the source the image came from, rating of the image and urls where the images are stored and text describing different characteristics of what was depicting in the image. The second source was `image_predictions.tsv`, in fact, we had the url of this file to download it to our workspace. This file mainly had information (a prediction made by a neural network algorithm) about whether a dog was depicting in the image or not and the breed of the dog. Additional data was colllected via Twitter API. The additonal information was the number of retweets, the numebr of likes and when the tweet was creaed. Next, we assessed our data with repsect to quality and tidiness issues. With repsect to qualtiy issues we corrected the names of th objects using regular expression techniques, removed retweets to get the origina rating, extracted the correct ratings for each image and changed the dtypes of some features accordingly. With repspect to tidiness issues we creared a separate column for the dog_stage column, dealt with some of the missing value the feature dog_stage had, created a separate olumn for ratings and the data from the second source was joined with the data from the first source. After cleaning the data we created the master table containing all the data from three different sources.\n"
   ]
  },
  {
   "cell_type": "code",
   "execution_count": null,
   "id": "855efb81",
   "metadata": {},
   "outputs": [],
   "source": []
  }
 ],
 "metadata": {
  "kernelspec": {
   "display_name": "Python 3",
   "language": "python",
   "name": "python3"
  },
  "language_info": {
   "codemirror_mode": {
    "name": "ipython",
    "version": 3
   },
   "file_extension": ".py",
   "mimetype": "text/x-python",
   "name": "python",
   "nbconvert_exporter": "python",
   "pygments_lexer": "ipython3",
   "version": "3.8.10"
  }
 },
 "nbformat": 4,
 "nbformat_minor": 5
}
