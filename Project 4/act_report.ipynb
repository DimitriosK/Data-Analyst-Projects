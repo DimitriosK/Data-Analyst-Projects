{
 "cells": [
  {
   "attachments": {},
   "cell_type": "markdown",
   "id": "c5d218a1",
   "metadata": {},
   "source": [
    "## Report\n",
    "__Goal of the project:__ Analyze the data which came from the Twitter archive  [WeRateDogs](https://en.wikipedia.org/wiki/WeRateDogs)  and extract some insights from this data\n",
    "\n",
    "__Insight 1:__ After analysing the data we found out the most popular name for the objects was Charlie (used 11 times) as the barplot shows below \n",
    "\n",
    "![top_names](top_5_names.png)\n",
    "\n",
    "In fact. all the images associated with the name Charlie were depicting dog (s) Next, we used the neural network algorithm to find out the most popular dog name. This time, according to the following barplot, the most popular name was Charlie (used 10 times) and Oliver (used 10 times). \n",
    "\n",
    "![top_dog_names](top_dog_names.png) \n",
    "\n",
    "As a result, the algorithm was not able to recognize one image which was depicting a dog. That image was \n",
    "\n",
    "![dog_image](dog_image.png)\n",
    "\n",
    "\n",
    " __Insight 2:__ In addition, the dog name with the highest average number of ratings (1.4) is Sundance In fact. there are more dog names with same average rating as it is made clear by the following chart.\n",
    " \n",
    " ![top_dog_averages](top_dog_averages.png)\n",
    " \n",
    " \n",
    "__Insight 3:__ The dog stage that received the highest average rating was `doggo, puppo` but the dog stage with the highest average number of likes was `doggo,floofer` as it is clearly indicated below.\n",
    "\n",
    "![dog_stages](dog_stages.png)\n",
    "\n",
    "\n",
    "At this point we have to mention that our data was skewed and the averages might be inflated a little bit. \n",
    "To check whether the difference in the averages of ratings for the top 2 dog stages was statistically significant, we conducted a hypopthesis testing. We concluded that the average difference was statistically significant when $\\alpha=0.05$.\n",
    "\n",
    "__Insight 4:__ Furthermore, as we expected, the numeber of 'likes' had a high positive correltion (0.91) with the number of retweets, i.e., the increase in the number of retweets causes the increase of the number of 'likes' on average. However, the number of 'likes' had a weak positive correlation with\n",
    "the ratings(approximately 0.016).\n",
    "\n"
   ]
  }
 ],
 "metadata": {
  "kernelspec": {
   "display_name": "Python 3",
   "language": "python",
   "name": "python3"
  },
  "language_info": {
   "codemirror_mode": {
    "name": "ipython",
    "version": 3
   },
   "file_extension": ".py",
   "mimetype": "text/x-python",
   "name": "python",
   "nbconvert_exporter": "python",
   "pygments_lexer": "ipython3",
   "version": "3.8.10"
  }
 },
 "nbformat": 4,
 "nbformat_minor": 5
}
