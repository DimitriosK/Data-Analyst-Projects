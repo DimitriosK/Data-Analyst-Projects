{
 "cells": [
  {
   "cell_type": "markdown",
   "id": "9cd62c12",
   "metadata": {},
   "source": [
    "# Project: Wrangling [WeRateDogs](https://en.wikipedia.org/wiki/WeRateDogs)\n",
    "\n",
    "## Table of Contents\n",
    "<ul>\n",
    "<li><a href=\"#intro\">Introduction</a></li>\n",
    "<li><a href=\"#gathering\">Gather</a></li>\n",
    "<li><a href=\"#assessing\">Assess</a></li>\n",
    "<li><a href=\"#cleaning\">Clean</a></li>\n",
    "<li><a href=\"#visualizing\">Visualize</a></li>\n",
    "</ul>"
   ]
  },
  {
   "cell_type": "markdown",
   "id": "da9a77b3",
   "metadata": {},
   "source": [
    "<a id='intro'></a>\n",
    "# Introduction\n",
    ">The dataset that we will be wrangling (and analyzing and visualizing) is the tweet archive of Twitter user [@dog_rates](https://twitter.com/dog_rates), also known as [WeRateDogs](https://en.wikipedia.org/wiki/WeRateDogs). WeRateDogs is a Twitter account that rates people's dogs with a >humorous comment about the dog. These ratings almost always have a denominator of 10. The numerators, though? Almost always greater than 10. 11/10, 12/10, 13/10, etc. Why? Because [\"they're good dogs Brent.\"](https://knowyourmeme.com/memes/theyre-good-dogs-brent) WeRateDogs has over 4 million followers and has  received international media coverage."
   ]
  },
  {
   "cell_type": "markdown",
   "id": "ab799c9e",
   "metadata": {},
   "source": [
    "<a id='gathering'></a>\n",
    "# Gather\n",
    "> The data has been gathered from three different sources:\n",
    ">* We have downloaded the file `twitter_archive_enhanced.csv` provided by Udacity and stored its  content in the dataframe `df_twitter`. The name of the columns are self-explanatory. More info is given below.\n",
    ">* We have directly downloaded the contents of the file `image_predictions.tsv` from the Internet using the url\n",
    "of the file and the pythons's library `requests` . In fact, we used the function `write_file` written in python for this purpose. However, we will not run this function here and the code is geven below. This file has a prediction of the breed of the dog appeared in the photo. We stored the contents of this file in the dataframe\n",
    "`df_prediction`.\n",
    ">* Addiotnal data was collected via Tweeter API. The addional data consisted of `tweet_id`, `retweet_count` and\n",
    "`favorite_count` and when the tweet was created. We stored all this additional data in the file `tweet_json.txt`. For this purpose we created the function `twitter_api` written in python. The code for this function was provided by Udacity. (see the code below) However, we will not run this function here. To store the contents of the file \n",
    "`tweet_json.txt` in the dataframe `df_json`, we create two functions, `read_json` and `dataframe_json` for this purpose."
   ]
  },
  {
   "cell_type": "code",
   "execution_count": 1,
   "id": "4de32465",
   "metadata": {},
   "outputs": [],
   "source": [
    "#import all the required libraries\n",
    "import numpy as np\n",
    "import pandas as pd\n",
    "import requests #useful for reading contents from the internet\n",
    "import json#useful for reading and writing json file\n",
    "from sqlalchemy import create_engine\n",
    "import matplotlib.pyplot as plt\n",
    "import seaborn as sns\n",
    "pd.set_option('display.max_columns', None)\n",
    "plt.style.use(\"fivethirtyeight\")\n",
    "import seaborn as sns\n",
    "%matplotlib inline\n",
    "\n"
   ]
  },
  {
   "cell_type": "markdown",
   "id": "970408d6",
   "metadata": {},
   "source": [
    "__Read the contents of the file `twitter_archive_enhanced.csv` in the dataframe `df_twitter`__."
   ]
  },
  {
   "cell_type": "code",
   "execution_count": 2,
   "id": "f9de7737",
   "metadata": {},
   "outputs": [
    {
     "data": {
      "text/html": [
       "<div>\n",
       "<style scoped>\n",
       "    .dataframe tbody tr th:only-of-type {\n",
       "        vertical-align: middle;\n",
       "    }\n",
       "\n",
       "    .dataframe tbody tr th {\n",
       "        vertical-align: top;\n",
       "    }\n",
       "\n",
       "    .dataframe thead th {\n",
       "        text-align: right;\n",
       "    }\n",
       "</style>\n",
       "<table border=\"1\" class=\"dataframe\">\n",
       "  <thead>\n",
       "    <tr style=\"text-align: right;\">\n",
       "      <th></th>\n",
       "      <th>tweet_id</th>\n",
       "      <th>in_reply_to_status_id</th>\n",
       "      <th>in_reply_to_user_id</th>\n",
       "      <th>timestamp</th>\n",
       "      <th>source</th>\n",
       "      <th>text</th>\n",
       "      <th>retweeted_status_id</th>\n",
       "      <th>retweeted_status_user_id</th>\n",
       "      <th>retweeted_status_timestamp</th>\n",
       "      <th>expanded_urls</th>\n",
       "      <th>rating_numerator</th>\n",
       "      <th>rating_denominator</th>\n",
       "      <th>name</th>\n",
       "      <th>doggo</th>\n",
       "      <th>floofer</th>\n",
       "      <th>pupper</th>\n",
       "      <th>puppo</th>\n",
       "    </tr>\n",
       "  </thead>\n",
       "  <tbody>\n",
       "    <tr>\n",
       "      <th>0</th>\n",
       "      <td>892420643555336193</td>\n",
       "      <td>NaN</td>\n",
       "      <td>NaN</td>\n",
       "      <td>2017-08-01 16:23:56 +0000</td>\n",
       "      <td>&lt;a href=\"http://twitter.com/download/iphone\" r...</td>\n",
       "      <td>This is Phineas. He's a mystical boy. Only eve...</td>\n",
       "      <td>NaN</td>\n",
       "      <td>NaN</td>\n",
       "      <td>NaN</td>\n",
       "      <td>https://twitter.com/dog_rates/status/892420643...</td>\n",
       "      <td>13</td>\n",
       "      <td>10</td>\n",
       "      <td>Phineas</td>\n",
       "      <td>None</td>\n",
       "      <td>None</td>\n",
       "      <td>None</td>\n",
       "      <td>None</td>\n",
       "    </tr>\n",
       "    <tr>\n",
       "      <th>1</th>\n",
       "      <td>892177421306343426</td>\n",
       "      <td>NaN</td>\n",
       "      <td>NaN</td>\n",
       "      <td>2017-08-01 00:17:27 +0000</td>\n",
       "      <td>&lt;a href=\"http://twitter.com/download/iphone\" r...</td>\n",
       "      <td>This is Tilly. She's just checking pup on you....</td>\n",
       "      <td>NaN</td>\n",
       "      <td>NaN</td>\n",
       "      <td>NaN</td>\n",
       "      <td>https://twitter.com/dog_rates/status/892177421...</td>\n",
       "      <td>13</td>\n",
       "      <td>10</td>\n",
       "      <td>Tilly</td>\n",
       "      <td>None</td>\n",
       "      <td>None</td>\n",
       "      <td>None</td>\n",
       "      <td>None</td>\n",
       "    </tr>\n",
       "    <tr>\n",
       "      <th>2</th>\n",
       "      <td>891815181378084864</td>\n",
       "      <td>NaN</td>\n",
       "      <td>NaN</td>\n",
       "      <td>2017-07-31 00:18:03 +0000</td>\n",
       "      <td>&lt;a href=\"http://twitter.com/download/iphone\" r...</td>\n",
       "      <td>This is Archie. He is a rare Norwegian Pouncin...</td>\n",
       "      <td>NaN</td>\n",
       "      <td>NaN</td>\n",
       "      <td>NaN</td>\n",
       "      <td>https://twitter.com/dog_rates/status/891815181...</td>\n",
       "      <td>12</td>\n",
       "      <td>10</td>\n",
       "      <td>Archie</td>\n",
       "      <td>None</td>\n",
       "      <td>None</td>\n",
       "      <td>None</td>\n",
       "      <td>None</td>\n",
       "    </tr>\n",
       "    <tr>\n",
       "      <th>3</th>\n",
       "      <td>891689557279858688</td>\n",
       "      <td>NaN</td>\n",
       "      <td>NaN</td>\n",
       "      <td>2017-07-30 15:58:51 +0000</td>\n",
       "      <td>&lt;a href=\"http://twitter.com/download/iphone\" r...</td>\n",
       "      <td>This is Darla. She commenced a snooze mid meal...</td>\n",
       "      <td>NaN</td>\n",
       "      <td>NaN</td>\n",
       "      <td>NaN</td>\n",
       "      <td>https://twitter.com/dog_rates/status/891689557...</td>\n",
       "      <td>13</td>\n",
       "      <td>10</td>\n",
       "      <td>Darla</td>\n",
       "      <td>None</td>\n",
       "      <td>None</td>\n",
       "      <td>None</td>\n",
       "      <td>None</td>\n",
       "    </tr>\n",
       "    <tr>\n",
       "      <th>4</th>\n",
       "      <td>891327558926688256</td>\n",
       "      <td>NaN</td>\n",
       "      <td>NaN</td>\n",
       "      <td>2017-07-29 16:00:24 +0000</td>\n",
       "      <td>&lt;a href=\"http://twitter.com/download/iphone\" r...</td>\n",
       "      <td>This is Franklin. He would like you to stop ca...</td>\n",
       "      <td>NaN</td>\n",
       "      <td>NaN</td>\n",
       "      <td>NaN</td>\n",
       "      <td>https://twitter.com/dog_rates/status/891327558...</td>\n",
       "      <td>12</td>\n",
       "      <td>10</td>\n",
       "      <td>Franklin</td>\n",
       "      <td>None</td>\n",
       "      <td>None</td>\n",
       "      <td>None</td>\n",
       "      <td>None</td>\n",
       "    </tr>\n",
       "  </tbody>\n",
       "</table>\n",
       "</div>"
      ],
      "text/plain": [
       "             tweet_id  in_reply_to_status_id  in_reply_to_user_id  \\\n",
       "0  892420643555336193                    NaN                  NaN   \n",
       "1  892177421306343426                    NaN                  NaN   \n",
       "2  891815181378084864                    NaN                  NaN   \n",
       "3  891689557279858688                    NaN                  NaN   \n",
       "4  891327558926688256                    NaN                  NaN   \n",
       "\n",
       "                   timestamp  \\\n",
       "0  2017-08-01 16:23:56 +0000   \n",
       "1  2017-08-01 00:17:27 +0000   \n",
       "2  2017-07-31 00:18:03 +0000   \n",
       "3  2017-07-30 15:58:51 +0000   \n",
       "4  2017-07-29 16:00:24 +0000   \n",
       "\n",
       "                                              source  \\\n",
       "0  <a href=\"http://twitter.com/download/iphone\" r...   \n",
       "1  <a href=\"http://twitter.com/download/iphone\" r...   \n",
       "2  <a href=\"http://twitter.com/download/iphone\" r...   \n",
       "3  <a href=\"http://twitter.com/download/iphone\" r...   \n",
       "4  <a href=\"http://twitter.com/download/iphone\" r...   \n",
       "\n",
       "                                                text  retweeted_status_id  \\\n",
       "0  This is Phineas. He's a mystical boy. Only eve...                  NaN   \n",
       "1  This is Tilly. She's just checking pup on you....                  NaN   \n",
       "2  This is Archie. He is a rare Norwegian Pouncin...                  NaN   \n",
       "3  This is Darla. She commenced a snooze mid meal...                  NaN   \n",
       "4  This is Franklin. He would like you to stop ca...                  NaN   \n",
       "\n",
       "   retweeted_status_user_id retweeted_status_timestamp  \\\n",
       "0                       NaN                        NaN   \n",
       "1                       NaN                        NaN   \n",
       "2                       NaN                        NaN   \n",
       "3                       NaN                        NaN   \n",
       "4                       NaN                        NaN   \n",
       "\n",
       "                                       expanded_urls  rating_numerator  \\\n",
       "0  https://twitter.com/dog_rates/status/892420643...                13   \n",
       "1  https://twitter.com/dog_rates/status/892177421...                13   \n",
       "2  https://twitter.com/dog_rates/status/891815181...                12   \n",
       "3  https://twitter.com/dog_rates/status/891689557...                13   \n",
       "4  https://twitter.com/dog_rates/status/891327558...                12   \n",
       "\n",
       "   rating_denominator      name doggo floofer pupper puppo  \n",
       "0                  10   Phineas  None    None   None  None  \n",
       "1                  10     Tilly  None    None   None  None  \n",
       "2                  10    Archie  None    None   None  None  \n",
       "3                  10     Darla  None    None   None  None  \n",
       "4                  10  Franklin  None    None   None  None  "
      ]
     },
     "execution_count": 2,
     "metadata": {},
     "output_type": "execute_result"
    }
   ],
   "source": [
    "df_twitter=pd.read_csv(\"twitter-archive-enhanced.csv\")\n",
    "df_twitter.head() #prints the first 5 rows of the dataframe"
   ]
  },
  {
   "cell_type": "markdown",
   "id": "dc716389",
   "metadata": {},
   "source": [
    "**Explanation of the columns of the above dataframe**:\n",
    "\n",
    "The coulmns of the above dataframe are self-explanatory except probably for `tweet_id`, `expanded_urls`,\n",
    "`rating_numerator`,`rating_denominator`and text.\n",
    "* `tweet_id` s the last part of the tweet URL after \"status/\".\n",
    "* `expanded_urls` is the url of the photo having the description of the photo, number of retweets and likes.\n",
    "* Ratings for the photo are of the form numerator/denominator. So `rating_numerato`r=numerator of the rating\n",
    "and `rating_denominator`=denominator of the rating of the photo.\n",
    "* `text`is the summary of the dog (sometimes it is not a dog) in the photo having dog's name, habits and the rating of the dog is recorded at the end.\n"
   ]
  },
  {
   "cell_type": "markdown",
   "id": "d4717f2c",
   "metadata": {},
   "source": [
    "**Use the function `write_file` to store the data from the given url  in the file image_predictions.tsv. Then store the content of this file in the dataframe `df_prediction`**"
   ]
  },
  {
   "cell_type": "code",
   "execution_count": 3,
   "id": "6609b04d",
   "metadata": {},
   "outputs": [],
   "source": [
    "url=\" https://d17h27t6h515a5.cloudfront.net/topher/2017/August/599fd2ad_image-predictions/image-predictions.tsv\"\n",
    "def write_file(url):\n",
    "    source=requests.get(url) #gets the data from url\n",
    "    with open(\"image_prediction.tsv\",\"wb\") as file:\n",
    "        file.write(source.content) #writes the content of the data retrieved from the url in the file\n",
    "\n",
    "\n"
   ]
  },
  {
   "cell_type": "code",
   "execution_count": 4,
   "id": "389d8a60",
   "metadata": {},
   "outputs": [
    {
     "data": {
      "text/html": [
       "<div>\n",
       "<style scoped>\n",
       "    .dataframe tbody tr th:only-of-type {\n",
       "        vertical-align: middle;\n",
       "    }\n",
       "\n",
       "    .dataframe tbody tr th {\n",
       "        vertical-align: top;\n",
       "    }\n",
       "\n",
       "    .dataframe thead th {\n",
       "        text-align: right;\n",
       "    }\n",
       "</style>\n",
       "<table border=\"1\" class=\"dataframe\">\n",
       "  <thead>\n",
       "    <tr style=\"text-align: right;\">\n",
       "      <th></th>\n",
       "      <th>tweet_id</th>\n",
       "      <th>jpg_url</th>\n",
       "      <th>img_num</th>\n",
       "      <th>p1</th>\n",
       "      <th>p1_conf</th>\n",
       "      <th>p1_dog</th>\n",
       "      <th>p2</th>\n",
       "      <th>p2_conf</th>\n",
       "      <th>p2_dog</th>\n",
       "      <th>p3</th>\n",
       "      <th>p3_conf</th>\n",
       "      <th>p3_dog</th>\n",
       "    </tr>\n",
       "  </thead>\n",
       "  <tbody>\n",
       "    <tr>\n",
       "      <th>0</th>\n",
       "      <td>666020888022790149</td>\n",
       "      <td>https://pbs.twimg.com/media/CT4udn0WwAA0aMy.jpg</td>\n",
       "      <td>1</td>\n",
       "      <td>Welsh_springer_spaniel</td>\n",
       "      <td>0.465074</td>\n",
       "      <td>True</td>\n",
       "      <td>collie</td>\n",
       "      <td>0.156665</td>\n",
       "      <td>True</td>\n",
       "      <td>Shetland_sheepdog</td>\n",
       "      <td>0.061428</td>\n",
       "      <td>True</td>\n",
       "    </tr>\n",
       "    <tr>\n",
       "      <th>1</th>\n",
       "      <td>666029285002620928</td>\n",
       "      <td>https://pbs.twimg.com/media/CT42GRgUYAA5iDo.jpg</td>\n",
       "      <td>1</td>\n",
       "      <td>redbone</td>\n",
       "      <td>0.506826</td>\n",
       "      <td>True</td>\n",
       "      <td>miniature_pinscher</td>\n",
       "      <td>0.074192</td>\n",
       "      <td>True</td>\n",
       "      <td>Rhodesian_ridgeback</td>\n",
       "      <td>0.072010</td>\n",
       "      <td>True</td>\n",
       "    </tr>\n",
       "    <tr>\n",
       "      <th>2</th>\n",
       "      <td>666033412701032449</td>\n",
       "      <td>https://pbs.twimg.com/media/CT4521TWwAEvMyu.jpg</td>\n",
       "      <td>1</td>\n",
       "      <td>German_shepherd</td>\n",
       "      <td>0.596461</td>\n",
       "      <td>True</td>\n",
       "      <td>malinois</td>\n",
       "      <td>0.138584</td>\n",
       "      <td>True</td>\n",
       "      <td>bloodhound</td>\n",
       "      <td>0.116197</td>\n",
       "      <td>True</td>\n",
       "    </tr>\n",
       "    <tr>\n",
       "      <th>3</th>\n",
       "      <td>666044226329800704</td>\n",
       "      <td>https://pbs.twimg.com/media/CT5Dr8HUEAA-lEu.jpg</td>\n",
       "      <td>1</td>\n",
       "      <td>Rhodesian_ridgeback</td>\n",
       "      <td>0.408143</td>\n",
       "      <td>True</td>\n",
       "      <td>redbone</td>\n",
       "      <td>0.360687</td>\n",
       "      <td>True</td>\n",
       "      <td>miniature_pinscher</td>\n",
       "      <td>0.222752</td>\n",
       "      <td>True</td>\n",
       "    </tr>\n",
       "    <tr>\n",
       "      <th>4</th>\n",
       "      <td>666049248165822465</td>\n",
       "      <td>https://pbs.twimg.com/media/CT5IQmsXIAAKY4A.jpg</td>\n",
       "      <td>1</td>\n",
       "      <td>miniature_pinscher</td>\n",
       "      <td>0.560311</td>\n",
       "      <td>True</td>\n",
       "      <td>Rottweiler</td>\n",
       "      <td>0.243682</td>\n",
       "      <td>True</td>\n",
       "      <td>Doberman</td>\n",
       "      <td>0.154629</td>\n",
       "      <td>True</td>\n",
       "    </tr>\n",
       "  </tbody>\n",
       "</table>\n",
       "</div>"
      ],
      "text/plain": [
       "             tweet_id                                          jpg_url  \\\n",
       "0  666020888022790149  https://pbs.twimg.com/media/CT4udn0WwAA0aMy.jpg   \n",
       "1  666029285002620928  https://pbs.twimg.com/media/CT42GRgUYAA5iDo.jpg   \n",
       "2  666033412701032449  https://pbs.twimg.com/media/CT4521TWwAEvMyu.jpg   \n",
       "3  666044226329800704  https://pbs.twimg.com/media/CT5Dr8HUEAA-lEu.jpg   \n",
       "4  666049248165822465  https://pbs.twimg.com/media/CT5IQmsXIAAKY4A.jpg   \n",
       "\n",
       "   img_num                      p1   p1_conf  p1_dog                  p2  \\\n",
       "0        1  Welsh_springer_spaniel  0.465074    True              collie   \n",
       "1        1                 redbone  0.506826    True  miniature_pinscher   \n",
       "2        1         German_shepherd  0.596461    True            malinois   \n",
       "3        1     Rhodesian_ridgeback  0.408143    True             redbone   \n",
       "4        1      miniature_pinscher  0.560311    True          Rottweiler   \n",
       "\n",
       "    p2_conf  p2_dog                   p3   p3_conf  p3_dog  \n",
       "0  0.156665    True    Shetland_sheepdog  0.061428    True  \n",
       "1  0.074192    True  Rhodesian_ridgeback  0.072010    True  \n",
       "2  0.138584    True           bloodhound  0.116197    True  \n",
       "3  0.360687    True   miniature_pinscher  0.222752    True  \n",
       "4  0.243682    True             Doberman  0.154629    True  "
      ]
     },
     "execution_count": 4,
     "metadata": {},
     "output_type": "execute_result"
    }
   ],
   "source": [
    "df_prediction=pd.read_csv(\"image_prediction.tsv\",sep=\"\\t\")\n",
    "df_prediction.head()"
   ]
  },
  {
   "cell_type": "markdown",
   "id": "546bc7f0",
   "metadata": {},
   "source": [
    "__The columns `p1`,`p1_conf`,`p1_dog` require an explanation. The columns `p2`,`p2_conf`,`p2_dog` and `p3`,`p3_conf`,`p3_dog` have a similar interpretation.__\n",
    "* `p1` is the algorithm's #1 prediction for the image in the tweet. \n",
    "* `p1_conf` is how confident the algorithm is in its #1 prediction.\n",
    "* `p1_dog` is whether or not the #1 prediction is a breed of dog.\n",
    "* `jpg_url` is the url where a photo depicting a dog only is stored."
   ]
  },
  {
   "cell_type": "markdown",
   "id": "5d5e3aa5",
   "metadata": {},
   "source": [
    "__The code used to create the file `tweet_json.txt` containing further information about the tweets is given below.__"
   ]
  },
  {
   "cell_type": "code",
   "execution_count": 5,
   "id": "ca30a219",
   "metadata": {},
   "outputs": [],
   "source": [
    "import tweepy\n",
    "from tweepy import OAuthHandler\n",
    "import json\n",
    "from timeit import default_timer as timer\n",
    "\n",
    "# Query Twitter API for each tweet in the Twitter archive and save JSON in a text file\n",
    "# These are hidden to comply with Twitter's API terms and conditions\n",
    "consumer_key = 'HIDDEN'\n",
    "consumer_secret = 'HIDDEN'\n",
    "access_token = 'HIDDEN'\n",
    "access_secret = 'HIDDEN'\n",
    "def twitter_api(consumer_key,consumer_secret,accss_token,access_secret):\n",
    "    auth = OAuthHandler(consumer_key, consumer_secret)\n",
    "    auth.set_access_token(access_token, access_secret)\n",
    "\n",
    "    api = tweepy.API(auth, wait_on_rate_limit=True)\n",
    "\n",
    "# NOTE TO STUDENT WITH MOBILE VERIFICATION ISSUES:\n",
    "# df_twitter is a DataFrame with the twitter_archive_enhanced.csv file. You may have to\n",
    "# change line 17 to match the name of your DataFrame with twitter_archive_enhanced.csv\n",
    "# NOTE TO REVIEWER: this student had mobile verification issues so the following\n",
    "# Twitter API code was sent to this student from a Udacity instructor\n",
    "# Tweet IDs for which to gather additional data via Twitter's API\n",
    "    tweet_ids = df_twitter.tweet_id.values\n",
    "    len(tweet_ids)\n",
    "\n",
    "# Query Twitter's API for JSON data for each tweet ID in the Twitter archive\n",
    "    count = 0\n",
    "    fails_dict = {}\n",
    "    start = timer()\n",
    "# Save each tweet's returned JSON as a new line in a .txt file\n",
    "    with open('tweet_json.txt', 'w') as outfile:\n",
    "        # This loop will likely take 20-30 minutes to run because of Twitter's rate limit\n",
    "        for tweet_id in tweet_ids:\n",
    "            count += 1\n",
    "            print(str(count) + \": \" + str(tweet_id))\n",
    "            try:\n",
    "                tweet = api.get_status(tweet_id, tweet_mode='extended')\n",
    "                print(\"Success\")\n",
    "                json.dump(tweet._json, outfile)\n",
    "                outfile.write('\\n')\n",
    "            except tweepy.TweepError as e:\n",
    "                print(\"Fail\")\n",
    "                fails_dict[tweet_id] = e\n",
    "                pass\n",
    "    end = timer()\n",
    "    print(end - start)\n",
    "    print(fails_dict)"
   ]
  },
  {
   "cell_type": "markdown",
   "id": "bf9b4424",
   "metadata": {},
   "source": [
    "__Store the content of the file `tweet_json.txt` in the data frame `df_json` with the aid of two functions,\n",
    "`read_json` and `dataframe_json`__\n"
   ]
  },
  {
   "cell_type": "code",
   "execution_count": 6,
   "id": "c2adfc72",
   "metadata": {},
   "outputs": [],
   "source": [
    "file=\"tweet_json.txt\"\n",
    "import json\n",
    "def read_json(file):\n",
    "    data=[]\n",
    "    with open(file) as json_file:\n",
    "        for line in json_file:#reads line by line from the file\n",
    "            data.append(line) #appends each line in the list called data\n",
    "    return data #returns the list where each line has a json format, i.e. each line is a dictionary"
   ]
  },
  {
   "cell_type": "code",
   "execution_count": 7,
   "id": "52f002d8",
   "metadata": {},
   "outputs": [],
   "source": [
    "def dataframe_json(file):\n",
    "    data=read_json(file)\n",
    "    length=len(data)\n",
    "    json_data=[{\"id\":json.loads(data[k])[\"id\"],\"retweet_count\":json.loads(data[k])[\"retweet_count\"],\n",
    "                \"favorite_count\":json.loads(data[k])[\"favorite_count\"],\n",
    "               \"created_at\":json.loads(data[k])[\"created_at\"]} for k in range(length)] #json.loads(data[k])\n",
    "    #reads a dictionary stores in the kth position in the list data and then we access the keys of the dictionary\n",
    "    #through json.loads(data[k])[key]. We chose the following keys: \"id\",\"retweet_count\",\"likes\" and \"creation day\"\n",
    "    df_json=pd.DataFrame(json_data) #creates a dataframe row by row\n",
    "    return df_json"
   ]
  },
  {
   "cell_type": "code",
   "execution_count": 8,
   "id": "4b574f56",
   "metadata": {},
   "outputs": [],
   "source": [
    "df_json=dataframe_json(file)"
   ]
  },
  {
   "cell_type": "code",
   "execution_count": 9,
   "id": "0435166d",
   "metadata": {},
   "outputs": [
    {
     "data": {
      "text/html": [
       "<div>\n",
       "<style scoped>\n",
       "    .dataframe tbody tr th:only-of-type {\n",
       "        vertical-align: middle;\n",
       "    }\n",
       "\n",
       "    .dataframe tbody tr th {\n",
       "        vertical-align: top;\n",
       "    }\n",
       "\n",
       "    .dataframe thead th {\n",
       "        text-align: right;\n",
       "    }\n",
       "</style>\n",
       "<table border=\"1\" class=\"dataframe\">\n",
       "  <thead>\n",
       "    <tr style=\"text-align: right;\">\n",
       "      <th></th>\n",
       "      <th>id</th>\n",
       "      <th>retweet_count</th>\n",
       "      <th>favorite_count</th>\n",
       "      <th>created_at</th>\n",
       "    </tr>\n",
       "  </thead>\n",
       "  <tbody>\n",
       "    <tr>\n",
       "      <th>0</th>\n",
       "      <td>892420643555336193</td>\n",
       "      <td>8853</td>\n",
       "      <td>39467</td>\n",
       "      <td>Tue Aug 01 16:23:56 +0000 2017</td>\n",
       "    </tr>\n",
       "    <tr>\n",
       "      <th>1</th>\n",
       "      <td>892177421306343426</td>\n",
       "      <td>6514</td>\n",
       "      <td>33819</td>\n",
       "      <td>Tue Aug 01 00:17:27 +0000 2017</td>\n",
       "    </tr>\n",
       "    <tr>\n",
       "      <th>2</th>\n",
       "      <td>891815181378084864</td>\n",
       "      <td>4328</td>\n",
       "      <td>25461</td>\n",
       "      <td>Mon Jul 31 00:18:03 +0000 2017</td>\n",
       "    </tr>\n",
       "    <tr>\n",
       "      <th>3</th>\n",
       "      <td>891689557279858688</td>\n",
       "      <td>8964</td>\n",
       "      <td>42908</td>\n",
       "      <td>Sun Jul 30 15:58:51 +0000 2017</td>\n",
       "    </tr>\n",
       "    <tr>\n",
       "      <th>4</th>\n",
       "      <td>891327558926688256</td>\n",
       "      <td>9774</td>\n",
       "      <td>41048</td>\n",
       "      <td>Sat Jul 29 16:00:24 +0000 2017</td>\n",
       "    </tr>\n",
       "  </tbody>\n",
       "</table>\n",
       "</div>"
      ],
      "text/plain": [
       "                   id  retweet_count  favorite_count  \\\n",
       "0  892420643555336193           8853           39467   \n",
       "1  892177421306343426           6514           33819   \n",
       "2  891815181378084864           4328           25461   \n",
       "3  891689557279858688           8964           42908   \n",
       "4  891327558926688256           9774           41048   \n",
       "\n",
       "                       created_at  \n",
       "0  Tue Aug 01 16:23:56 +0000 2017  \n",
       "1  Tue Aug 01 00:17:27 +0000 2017  \n",
       "2  Mon Jul 31 00:18:03 +0000 2017  \n",
       "3  Sun Jul 30 15:58:51 +0000 2017  \n",
       "4  Sat Jul 29 16:00:24 +0000 2017  "
      ]
     },
     "execution_count": 9,
     "metadata": {},
     "output_type": "execute_result"
    }
   ],
   "source": [
    "df_json.head()"
   ]
  },
  {
   "cell_type": "markdown",
   "id": "af2ef321",
   "metadata": {},
   "source": [
    "<a id='assessing'></a>\n",
    "# Assess\n",
    "> During the assessment process the following issues were established. The code for finding out these issues \n",
    "> is given in the cells below.\n",
    "> The issues are:\n",
    "\n",
    "> __Quality__\n",
    "\n",
    "> Quality issues for the  df_twitter table:\n",
    "> * Ratings (some rows have two ratings and not all the ratings have same denominator)\n",
    ">* Remove retweets to get the original ratings\n",
    ">* Names (some dogs are named by the character 'a' or have the 'None' value or some names start with lowercase letters)\n",
    ">* Some dog stages were not identified correctly and some photos have two dog stages\n",
    ">* Missing values (some columns present misssing values)\n",
    ">* None is a missing value but it is not recognized by pandas\n",
    ">* `tweet_id`'s dtype is int\n",
    ">* `Timestamp` is string\n",
    ">* The column `source`has tags in it\n",
    "\n",
    ">Quality issues for the df_prediction table\n",
    ">* this table does not have predictions for all the photos in the df_twitter table (We cannot make predictions for the remaining pictures as we did not have the algorithm which made the original predictions at our disposal )\n",
    ">* `tweet_id`'s dtype is int\n",
    ">* Three different algorithms provided for predicting the image in `df_twitter`\n",
    "\n",
    ">Quality issies for the table df_json\n",
    ">* The dtype of the columns `created at` is string \n",
    "\n",
    "\n",
    "> __Tidiness__\n",
    ">* The variable dog stages is presented in 4 columns\n",
    ">* The variable rating is presented in two columns\n",
    ">* The df_json table should be part of the table `df_twitter`\n",
    ">* The column `created_at` is duplicated with `timestamp`\n",
    "\n"
   ]
  },
  {
   "cell_type": "markdown",
   "id": "6f276d1e",
   "metadata": {},
   "source": [
    "__Let's spot the quality issues for the table `df_twitter`__\n",
    ">* Some photos have two ratings."
   ]
  },
  {
   "cell_type": "code",
   "execution_count": 10,
   "id": "419109a3",
   "metadata": {},
   "outputs": [
    {
     "data": {
      "text/plain": [
       "'Happy 4/20 from the squad! 13/10 for all https://t.co/eV1diwds8a'"
      ]
     },
     "execution_count": 10,
     "metadata": {},
     "output_type": "execute_result"
    }
   ],
   "source": [
    "mask=df_twitter.rating_denominator==20\n",
    "df_twitter[mask][\"text\"].iloc[0]#some photos were given two raitngs"
   ]
  },
  {
   "cell_type": "markdown",
   "id": "ccae73d3",
   "metadata": {},
   "source": [
    "It is useful to observe that, althought the max value that a denominator can have is 170, 99% of denominators are $\\leq 10$. Analogous conclusions can be drawn for the numerators.  This fact is shown below.\n"
   ]
  },
  {
   "cell_type": "code",
   "execution_count": 11,
   "id": "6f98db1c",
   "metadata": {},
   "outputs": [
    {
     "data": {
      "text/plain": [
       "count    2356.000000\n",
       "mean       10.455433\n",
       "std         6.745237\n",
       "min         0.000000\n",
       "25%        10.000000\n",
       "50%        10.000000\n",
       "75%        10.000000\n",
       "max       170.000000\n",
       "Name: rating_denominator, dtype: float64"
      ]
     },
     "execution_count": 11,
     "metadata": {},
     "output_type": "execute_result"
    }
   ],
   "source": [
    "df_twitter.rating_denominator.describe()"
   ]
  },
  {
   "cell_type": "code",
   "execution_count": 12,
   "id": "7fc614ed",
   "metadata": {},
   "outputs": [
    {
     "data": {
      "text/plain": [
       "10.0"
      ]
     },
     "execution_count": 12,
     "metadata": {},
     "output_type": "execute_result"
    }
   ],
   "source": [
    "np.percentile(df_twitter.rating_denominator,q=0.99) #prints 99% percentile of denominators"
   ]
  },
  {
   "cell_type": "code",
   "execution_count": 13,
   "id": "c0caaf1c",
   "metadata": {},
   "outputs": [
    {
     "data": {
      "text/plain": [
       "count    2356.000000\n",
       "mean       13.126486\n",
       "std        45.876648\n",
       "min         0.000000\n",
       "25%        10.000000\n",
       "50%        11.000000\n",
       "75%        12.000000\n",
       "max      1776.000000\n",
       "Name: rating_numerator, dtype: float64"
      ]
     },
     "execution_count": 13,
     "metadata": {},
     "output_type": "execute_result"
    }
   ],
   "source": [
    "df_twitter.rating_numerator.describe() #the max  value for numerator is 1776 but 99% are <=3"
   ]
  },
  {
   "cell_type": "code",
   "execution_count": 14,
   "id": "9bedee84",
   "metadata": {},
   "outputs": [
    {
     "data": {
      "text/plain": [
       "3.0"
      ]
     },
     "execution_count": 14,
     "metadata": {},
     "output_type": "execute_result"
    }
   ],
   "source": [
    "np.percentile(df_twitter.rating_numerator,q=0.99)"
   ]
  },
  {
   "cell_type": "markdown",
   "id": "cdb58aa1",
   "metadata": {},
   "source": [
    ">* Below you can find a code which spots those picture that were given multiple ratings."
   ]
  },
  {
   "cell_type": "code",
   "execution_count": 15,
   "id": "e92914e4",
   "metadata": {},
   "outputs": [
    {
     "data": {
      "text/plain": [
       "1    2323\n",
       "2      32\n",
       "3       1\n",
       "Name: text, dtype: int64"
      ]
     },
     "execution_count": 15,
     "metadata": {},
     "output_type": "execute_result"
    }
   ],
   "source": [
    "#finds the number of pictures with multiple ratings (possible cases one, two or three ratings in one picture)\n",
    "df_twitter[\"text\"].str.findall(r\"(\\d{1,4}/\\d{1,4})+\").str.len().value_counts()"
   ]
  },
  {
   "cell_type": "code",
   "execution_count": 16,
   "id": "f948b207",
   "metadata": {},
   "outputs": [
    {
     "data": {
      "text/plain": [
       "\"@jonnysun @Lin_Manuel ok jomny I know you're excited but 960/00 isn't a valid rating, 13/10 is tho\""
      ]
     },
     "execution_count": 16,
     "metadata": {},
     "output_type": "execute_result"
    }
   ],
   "source": [
    "mask=df_twitter[\"text\"].str.contains(r\"\\d{1,4}/\\d{1,4}.+\\d{1,4}/\\d{1,4}\")\n",
    "df_twitter[mask].text.iloc[1] #although two ratings appear in the picture one is meant to be given"
   ]
  },
  {
   "cell_type": "code",
   "execution_count": 17,
   "id": "56c74d93",
   "metadata": {},
   "outputs": [
    {
     "data": {
      "text/plain": [
       "2010    10/10 for dog. 7/10 for cat. 12/10 for human. ...\n",
       "Name: text, dtype: object"
      ]
     },
     "execution_count": 17,
     "metadata": {},
     "output_type": "execute_result"
    }
   ],
   "source": [
    "mask=df_twitter[\"text\"].str.contains(r\"\\d{1,4}/\\d{1,4}.+\\d{1,4}/\\d{1,4}.+\\d{1,4}/\\d{1,4}\")\n",
    "df_twitter[mask][\"text\"]#prints the picture with three rating"
   ]
  },
  {
   "cell_type": "markdown",
   "id": "7f5450a7",
   "metadata": {},
   "source": [
    ">* Some dogs are named by the character 'a' which can considered as a missing value. In fact 55 dogs were named by the character 'a'.\n"
   ]
  },
  {
   "cell_type": "code",
   "execution_count": 18,
   "id": "b94d57c8",
   "metadata": {},
   "outputs": [
    {
     "data": {
      "text/plain": [
       "None       745\n",
       "a           55\n",
       "Charlie     12\n",
       "Lucy        11\n",
       "Oliver      11\n",
       "          ... \n",
       "Orion        1\n",
       "Beemo        1\n",
       "Daniel       1\n",
       "Sora         1\n",
       "Timber       1\n",
       "Name: name, Length: 957, dtype: int64"
      ]
     },
     "execution_count": 18,
     "metadata": {},
     "output_type": "execute_result"
    }
   ],
   "source": [
    "df_twitter[\"name\"].value_counts() #some dogs named with 'a' or 'None'"
   ]
  },
  {
   "cell_type": "code",
   "execution_count": 19,
   "id": "c96b2cba",
   "metadata": {},
   "outputs": [
    {
     "data": {
      "text/plain": [
       "a               55\n",
       "the              8\n",
       "an               7\n",
       "very             5\n",
       "just             4\n",
       "one              4\n",
       "quite            4\n",
       "getting          2\n",
       "not              2\n",
       "mad              2\n",
       "actually         2\n",
       "light            1\n",
       "his              1\n",
       "unacceptable     1\n",
       "officially       1\n",
       "infuriating      1\n",
       "my               1\n",
       "incredibly       1\n",
       "such             1\n",
       "old              1\n",
       "this             1\n",
       "all              1\n",
       "by               1\n",
       "life             1\n",
       "space            1\n",
       "Name: name, dtype: int64"
      ]
     },
     "execution_count": 19,
     "metadata": {},
     "output_type": "execute_result"
    }
   ],
   "source": [
    "mask=df_twitter[\"name\"].str.islower()\n",
    "df_twitter.loc[mask,\"name\"].value_counts()#some dogs named wit lowecase letters. Later they will get nan values"
   ]
  },
  {
   "cell_type": "markdown",
   "id": "cc9cce35",
   "metadata": {},
   "source": [
    ">* Some dog stages were not identified correclty. For exasmple some __None__ values in the column \"doggo\" should be \"doggo\", some __None__ values in the column `pupper` should be pupper and some __None__ values in the column `puppo` should be puppo as it is indicated in the corresponding `text` column. Some photos have two dog stages, for example doggo and puppo. The explantion of these statements is given by the code below."
   ]
  },
  {
   "cell_type": "code",
   "execution_count": 20,
   "id": "fc7694d8",
   "metadata": {},
   "outputs": [
    {
     "data": {
      "text/plain": [
       "10"
      ]
     },
     "execution_count": 20,
     "metadata": {},
     "output_type": "execute_result"
    }
   ],
   "source": [
    "mask=df_twitter[\"doggo\"]==\"None\" #selects those rows where the dog stage value is None\n",
    "mask1=df_twitter[mask][\"text\"].str.contains(\"doggo\")#The corresponding text shows that the dog should be doggo\n",
    "sum(mask1)#There are 10 instances where the dog stage was identified as None while they are doggo\n"
   ]
  },
  {
   "cell_type": "code",
   "execution_count": 21,
   "id": "efafc054",
   "metadata": {},
   "outputs": [
    {
     "data": {
      "text/plain": [
       "24"
      ]
     },
     "execution_count": 21,
     "metadata": {},
     "output_type": "execute_result"
    }
   ],
   "source": [
    "mask=df_twitter[\"pupper\"]==\"None\" #selects those rows where the dog stage value is None in the \"pupper\" col\n",
    "mask1=df_twitter[mask][\"text\"].str.contains(\"pupper\")#The corresponding text shows that the dog should be pupper\n",
    "sum(mask1)#There are 24 instances where the dog stage was identified as None while they are pupper\n",
    "\n"
   ]
  },
  {
   "cell_type": "code",
   "execution_count": 22,
   "id": "2961039d",
   "metadata": {},
   "outputs": [
    {
     "data": {
      "text/plain": [
       "8"
      ]
     },
     "execution_count": 22,
     "metadata": {},
     "output_type": "execute_result"
    }
   ],
   "source": [
    "mask=df_twitter[\"puppo\"]==\"None\" #selects those rows where the dog stage value is None in the \"puppo\" col\n",
    "mask1=df_twitter[mask][\"text\"].str.contains(\"puppo\")#The corresponding text shows that the dog should be puppo\n",
    "sum(mask1)#There are 8 instances where the dog stage was identified as None while they are puppo\n",
    "\n"
   ]
  },
  {
   "cell_type": "code",
   "execution_count": 23,
   "id": "8a64e32d",
   "metadata": {},
   "outputs": [
    {
     "name": "stdout",
     "output_type": "stream",
     "text": [
      "I have stumbled puppon a doggo painting party. They're looking to be the next Pupcasso or Puppollock. All 13/10 would put it on the fridge https://t.co/cUeDMlHJbq\n",
      "\n",
      "Here's a puppo participating in the #ScienceMarch. Cleverly disguising her own doggo agenda. 13/10 would keep the planet habitable for https://t.co/cMhq16isel\n"
     ]
    }
   ],
   "source": [
    "mask=(df_twitter[\"text\"].str.contains(\"doggo\"))&(df_twitter[\"text\"].str.contains(\"puppo\"))\n",
    "sum(mask)#some photos have two dog stages, for example doggo and puppo (there two instances of this case)\n",
    "print(df_twitter[mask][\"text\"].iloc[0])\n",
    "print()\n",
    "print(df_twitter[mask][\"text\"].iloc[1])\n",
    "\n"
   ]
  },
  {
   "cell_type": "markdown",
   "id": "722f4cf2",
   "metadata": {},
   "source": [
    ">* Some columns have missing values"
   ]
  },
  {
   "cell_type": "code",
   "execution_count": 24,
   "id": "ad18a5f4",
   "metadata": {},
   "outputs": [
    {
     "data": {
      "text/plain": [
       "tweet_id                         0\n",
       "in_reply_to_status_id         2278\n",
       "in_reply_to_user_id           2278\n",
       "timestamp                        0\n",
       "source                           0\n",
       "text                             0\n",
       "retweeted_status_id           2175\n",
       "retweeted_status_user_id      2175\n",
       "retweeted_status_timestamp    2175\n",
       "expanded_urls                   59\n",
       "rating_numerator                 0\n",
       "rating_denominator               0\n",
       "name                             0\n",
       "doggo                            0\n",
       "floofer                          0\n",
       "pupper                           0\n",
       "puppo                            0\n",
       "dtype: int64"
      ]
     },
     "execution_count": 24,
     "metadata": {},
     "output_type": "execute_result"
    }
   ],
   "source": [
    "df_twitter.isna().sum() #counts the number of missing data in each column"
   ]
  },
  {
   "cell_type": "markdown",
   "id": "76985d33",
   "metadata": {},
   "source": [
    ">* __None__ in the dog stages is not recognized as a missign value by pandas as it is indicacted by the above table__\n",
    ">* Some dogs are named by the character 'a' which can be considered as a missing value\n",
    ">* Tweet_id's dtype is int\n",
    ">* Timestamp is a string"
   ]
  },
  {
   "cell_type": "code",
   "execution_count": 25,
   "id": "d6a3ebb5",
   "metadata": {},
   "outputs": [
    {
     "name": "stdout",
     "output_type": "stream",
     "text": [
      "<class 'pandas.core.frame.DataFrame'>\n",
      "RangeIndex: 2356 entries, 0 to 2355\n",
      "Data columns (total 17 columns):\n",
      " #   Column                      Non-Null Count  Dtype  \n",
      "---  ------                      --------------  -----  \n",
      " 0   tweet_id                    2356 non-null   int64  \n",
      " 1   in_reply_to_status_id       78 non-null     float64\n",
      " 2   in_reply_to_user_id         78 non-null     float64\n",
      " 3   timestamp                   2356 non-null   object \n",
      " 4   source                      2356 non-null   object \n",
      " 5   text                        2356 non-null   object \n",
      " 6   retweeted_status_id         181 non-null    float64\n",
      " 7   retweeted_status_user_id    181 non-null    float64\n",
      " 8   retweeted_status_timestamp  181 non-null    object \n",
      " 9   expanded_urls               2297 non-null   object \n",
      " 10  rating_numerator            2356 non-null   int64  \n",
      " 11  rating_denominator          2356 non-null   int64  \n",
      " 12  name                        2356 non-null   object \n",
      " 13  doggo                       2356 non-null   object \n",
      " 14  floofer                     2356 non-null   object \n",
      " 15  pupper                      2356 non-null   object \n",
      " 16  puppo                       2356 non-null   object \n",
      "dtypes: float64(4), int64(3), object(10)\n",
      "memory usage: 313.0+ KB\n"
     ]
    }
   ],
   "source": [
    "df_twitter.info()"
   ]
  },
  {
   "cell_type": "code",
   "execution_count": 26,
   "id": "1e6cf622",
   "metadata": {},
   "outputs": [
    {
     "data": {
      "text/plain": [
       "str"
      ]
     },
     "execution_count": 26,
     "metadata": {},
     "output_type": "execute_result"
    }
   ],
   "source": [
    "type(df_twitter[\"timestamp\"].iloc[0]) #timestamp is of string type"
   ]
  },
  {
   "cell_type": "markdown",
   "id": "b5922610",
   "metadata": {},
   "source": [
    ">* The column `source` has tags <a> in it"
   ]
  },
  {
   "cell_type": "code",
   "execution_count": 27,
   "id": "00face46",
   "metadata": {},
   "outputs": [
    {
     "data": {
      "text/plain": [
       "'<a href=\"http://twitter.com/download/iphone\" rel=\"nofollow\">Twitter for iPhone</a>'"
      ]
     },
     "execution_count": 27,
     "metadata": {},
     "output_type": "execute_result"
    }
   ],
   "source": [
    "df_twitter[\"source\"].iloc[0]"
   ]
  },
  {
   "cell_type": "markdown",
   "id": "dc91a22a",
   "metadata": {},
   "source": [
    ">The table df_prediction does not have the predictions for all the photos in the df_twitter table. This can be established by looking at the dimensions of the tables (dataframes)"
   ]
  },
  {
   "cell_type": "code",
   "execution_count": 28,
   "id": "3dfd8453",
   "metadata": {},
   "outputs": [
    {
     "name": "stdout",
     "output_type": "stream",
     "text": [
      "The dimension of the df_twitter is  (2356, 17)\n",
      "The dimension of the df_prediction is  (2075, 12)\n"
     ]
    }
   ],
   "source": [
    "print(\"The dimension of the df_twitter is \", df_twitter.shape)\n",
    "print(\"The dimension of the df_prediction is \", df_prediction.shape)\n"
   ]
  },
  {
   "cell_type": "markdown",
   "id": "d9e9c7a5",
   "metadata": {},
   "source": [
    "<a id='cleaning'></a>\n",
    "# Clean"
   ]
  },
  {
   "cell_type": "code",
   "execution_count": 29,
   "id": "f03beffd",
   "metadata": {},
   "outputs": [],
   "source": [
    "#Copy all the dataframes\n",
    "df_twitter_clean=df_twitter.copy()\n",
    "df_prediction_clean=df_prediction.copy()\n",
    "df_json_clean=df_json.copy()"
   ]
  },
  {
   "cell_type": "markdown",
   "id": "c607f0a0",
   "metadata": {},
   "source": [
    " We will deal with missing values related to dog names, dog stages"
   ]
  },
  {
   "cell_type": "markdown",
   "id": "84172c3a",
   "metadata": {},
   "source": [
    "__Define__\n",
    "\n",
    "For dog names do the following:\n",
    ">* Change the names of the dogs that were given the name 'a' using the column `text` and regular expressions\n"
   ]
  },
  {
   "cell_type": "markdown",
   "id": "2723a0d6",
   "metadata": {},
   "source": [
    "__Code__"
   ]
  },
  {
   "cell_type": "code",
   "execution_count": 30,
   "id": "d58e50e9",
   "metadata": {},
   "outputs": [],
   "source": [
    "indices=df_twitter_clean[\"name\"].str.islower()#gives me the indices where the names start with lowercase letters\n",
    "#this variable will be useful later"
   ]
  },
  {
   "cell_type": "code",
   "execution_count": 31,
   "id": "de0edaf1",
   "metadata": {},
   "outputs": [],
   "source": [
    "mask=df_twitter_clean[\"name\"]==\"a\"#dogs given the name 'a'\n",
    "new_names=df_twitter_clean.loc[mask,\"text\"].str.findall(r\"named\\s+\\w+|name is\\s+\\w+|[Tt]his is\\s+[A-Z]+\\w+\").str[0].str.split(\" \").str[-1]\n",
    "df_twitter_clean.loc[mask,\"name\"]=new_names #replace the name 'a' with corresponding name from the text"
   ]
  },
  {
   "cell_type": "markdown",
   "id": "06b5d45c",
   "metadata": {},
   "source": [
    "__Test__"
   ]
  },
  {
   "cell_type": "code",
   "execution_count": 32,
   "id": "77de6471",
   "metadata": {},
   "outputs": [
    {
     "data": {
      "text/plain": [
       "0"
      ]
     },
     "execution_count": 32,
     "metadata": {},
     "output_type": "execute_result"
    }
   ],
   "source": [
    "(df_twitter_clean[\"name\"]==\"a\").sum() # zero dogs named 'a'as expected. Note that  there stril nan value in that \n",
    "#column which can be the result of the fact there is no name for the corresponding picture or we did not find\n",
    "#all the possible patterns to extract the names from the column 'text'"
   ]
  },
  {
   "cell_type": "markdown",
   "id": "a6d7e470",
   "metadata": {},
   "source": [
    "__Define__\n",
    ">* Change the names of the dogs that were given the name 'None' using the column `text` and regular expressions"
   ]
  },
  {
   "cell_type": "markdown",
   "id": "86e4b1d4",
   "metadata": {},
   "source": [
    "__Code__"
   ]
  },
  {
   "cell_type": "code",
   "execution_count": 33,
   "id": "2bee095f",
   "metadata": {},
   "outputs": [],
   "source": [
    "mask=df_twitter_clean[\"name\"]==\"None\" #dogs given the name \"None\"\n",
    "new_names=df_twitter_clean.loc[mask,\"text\"].str.findall(r\"named\\s+\\w+|name is\\s+\\w+|[Tt]his is\\s+[A-Z]+\\w+\").str[0].str.split(\" \").str[-1]\n",
    "df_twitter_clean.loc[mask,\"name\"]=new_names\n"
   ]
  },
  {
   "cell_type": "markdown",
   "id": "06d13b3c",
   "metadata": {},
   "source": [
    "__Test__"
   ]
  },
  {
   "cell_type": "code",
   "execution_count": 34,
   "id": "afe3475b",
   "metadata": {},
   "outputs": [
    {
     "data": {
      "text/plain": [
       "0"
      ]
     },
     "execution_count": 34,
     "metadata": {},
     "output_type": "execute_result"
    }
   ],
   "source": [
    "(df_twitter_clean[\"name\"]==\"None\").sum() # it is zero as expected"
   ]
  },
  {
   "cell_type": "markdown",
   "id": "14e9ee74",
   "metadata": {},
   "source": [
    "__Define__\n",
    "\n",
    ">* Replace the names starting with lowercase lettters (in fact they are not real dog names) with nan values"
   ]
  },
  {
   "cell_type": "markdown",
   "id": "af66ce7d",
   "metadata": {},
   "source": [
    "__Code__"
   ]
  },
  {
   "cell_type": "code",
   "execution_count": 35,
   "id": "afb66435",
   "metadata": {},
   "outputs": [],
   "source": [
    "df_twitter_clean.loc[indices,\"name\"]=np.nan"
   ]
  },
  {
   "cell_type": "markdown",
   "id": "8260394a",
   "metadata": {},
   "source": [
    "__Test__"
   ]
  },
  {
   "cell_type": "code",
   "execution_count": 36,
   "id": "e3a2447c",
   "metadata": {},
   "outputs": [
    {
     "data": {
      "text/plain": [
       "0"
      ]
     },
     "execution_count": 36,
     "metadata": {},
     "output_type": "execute_result"
    }
   ],
   "source": [
    "(df_twitter_clean[\"name\"].str.islower()).sum() #zero as expected\n"
   ]
  },
  {
   "cell_type": "markdown",
   "id": "f0a711a9",
   "metadata": {},
   "source": [
    "For dog stages do tthe following:\n",
    ">* Replace the values \"None\" in the doggo column with \"doggo\" for the right set of indices\n"
   ]
  },
  {
   "cell_type": "markdown",
   "id": "46e89857",
   "metadata": {},
   "source": [
    "__Code__"
   ]
  },
  {
   "cell_type": "code",
   "execution_count": 37,
   "id": "a2dd5cff",
   "metadata": {},
   "outputs": [
    {
     "name": "stderr",
     "output_type": "stream",
     "text": [
      "/Users/dimitrioskarslidis/opt/anaconda3/lib/python3.8/site-packages/pandas/core/indexing.py:1637: SettingWithCopyWarning: \n",
      "A value is trying to be set on a copy of a slice from a DataFrame\n",
      "\n",
      "See the caveats in the documentation: https://pandas.pydata.org/pandas-docs/stable/user_guide/indexing.html#returning-a-view-versus-a-copy\n",
      "  self._setitem_single_block(indexer, value, name)\n"
     ]
    }
   ],
   "source": [
    "mask=df_twitter_clean[\"doggo\"]==\"None\" #selects those rows where the dog stage value is None\n",
    "mask1=df_twitter_clean[mask][\"text\"].str.contains(\"doggo\")\n",
    "indices=df_twitter_clean[mask].loc[mask1,\"doggo\"].index.tolist()#take those indices where the \"None\" value\n",
    "#should be replacced with 'doggo'\n",
    "df_twitter_clean.doggo.loc[indices]=\"doggo\"#replace the \"None\" with \"doggo\""
   ]
  },
  {
   "cell_type": "markdown",
   "id": "b7d45028",
   "metadata": {},
   "source": [
    "__Test__"
   ]
  },
  {
   "cell_type": "code",
   "execution_count": 38,
   "id": "d78a301f",
   "metadata": {},
   "outputs": [
    {
     "data": {
      "text/plain": [
       "83      doggo\n",
       "268     doggo\n",
       "302     doggo\n",
       "475     doggo\n",
       "477     doggo\n",
       "798     doggo\n",
       "934     doggo\n",
       "946     doggo\n",
       "987     doggo\n",
       "1120    doggo\n",
       "Name: doggo, dtype: object"
      ]
     },
     "execution_count": 38,
     "metadata": {},
     "output_type": "execute_result"
    }
   ],
   "source": [
    "df_twitter_clean.doggo.loc[indices]"
   ]
  },
  {
   "cell_type": "markdown",
   "id": "61976706",
   "metadata": {},
   "source": [
    ">* Replace the values \"None\" in the pupper column with \"pupper\" for the right set of indices"
   ]
  },
  {
   "cell_type": "markdown",
   "id": "714aed33",
   "metadata": {},
   "source": [
    "__Code__"
   ]
  },
  {
   "cell_type": "code",
   "execution_count": 39,
   "id": "c969ef77",
   "metadata": {},
   "outputs": [],
   "source": [
    "mask=df_twitter_clean[\"pupper\"]==\"None\" #selects those rows where the dog stage value is None\n",
    "mask1=df_twitter_clean[mask][\"text\"].str.contains(\"pupper\")\n",
    "indices=df_twitter_clean[mask].loc[mask1,\"pupper\"].index.tolist()#take those indices where the \"None\" value\n",
    "#should be replacced with 'puppero'\n",
    "df_twitter_clean.pupper.loc[indices]=\"pupper\"#replace the \"None\" with \"pupper\""
   ]
  },
  {
   "cell_type": "markdown",
   "id": "61ca2dde",
   "metadata": {},
   "source": [
    "__Test__"
   ]
  },
  {
   "cell_type": "code",
   "execution_count": 40,
   "id": "d71f823a",
   "metadata": {},
   "outputs": [
    {
     "data": {
      "text/plain": [
       "54      pupper\n",
       "993     pupper\n",
       "1027    pupper\n",
       "1093    pupper\n",
       "1220    pupper\n",
       "1228    pupper\n",
       "1254    pupper\n",
       "1265    pupper\n",
       "1351    pupper\n",
       "1516    pupper\n",
       "1634    pupper\n",
       "1635    pupper\n",
       "1636    pupper\n",
       "1643    pupper\n",
       "1710    pupper\n",
       "1712    pupper\n",
       "1743    pupper\n",
       "1826    pupper\n",
       "1843    pupper\n",
       "1847    pupper\n",
       "1862    pupper\n",
       "1900    pupper\n",
       "1928    pupper\n",
       "2141    pupper\n",
       "Name: pupper, dtype: object"
      ]
     },
     "execution_count": 40,
     "metadata": {},
     "output_type": "execute_result"
    }
   ],
   "source": [
    "df_twitter_clean.pupper.loc[indices]"
   ]
  },
  {
   "cell_type": "markdown",
   "id": "c5b5b4c7",
   "metadata": {},
   "source": [
    "__Define__"
   ]
  },
  {
   "cell_type": "markdown",
   "id": "1c428a2e",
   "metadata": {},
   "source": [
    ">* Replace Replace the values \"None\" in the puppo column with \"puppo\" for the right set of indices"
   ]
  },
  {
   "cell_type": "markdown",
   "id": "9a371fbf",
   "metadata": {},
   "source": [
    "__Code__"
   ]
  },
  {
   "cell_type": "code",
   "execution_count": 41,
   "id": "eb7d9598",
   "metadata": {},
   "outputs": [],
   "source": [
    "mask=df_twitter_clean[\"puppo\"]==\"None\" #selects those rows where the dog stage value is None in the puppo col\n",
    "mask1=df_twitter_clean[mask][\"text\"].str.contains(\"puppo\")\n",
    "indices=df_twitter_clean[mask].loc[mask1,\"puppo\"].index.tolist()#take those indices where the \"None\" value\n",
    "#should be replacced with 'puppo'\n",
    "df_twitter_clean.puppo.loc[indices]=\"puppo\"#replace the \"None\" with \"puppo\""
   ]
  },
  {
   "cell_type": "markdown",
   "id": "32382160",
   "metadata": {},
   "source": [
    "__Test__"
   ]
  },
  {
   "cell_type": "code",
   "execution_count": 42,
   "id": "7a596f8a",
   "metadata": {},
   "outputs": [
    {
     "data": {
      "text/plain": [
       "85     puppo\n",
       "106    puppo\n",
       "134    puppo\n",
       "172    puppo\n",
       "228    puppo\n",
       "274    puppo\n",
       "296    puppo\n",
       "545    puppo\n",
       "Name: puppo, dtype: object"
      ]
     },
     "execution_count": 42,
     "metadata": {},
     "output_type": "execute_result"
    }
   ],
   "source": [
    "df_twitter_clean.puppo.loc[indices]"
   ]
  },
  {
   "cell_type": "markdown",
   "id": "b8cb5d4e",
   "metadata": {},
   "source": [
    "__Define__\n",
    "\n",
    ">* Extract the ratings from the text by first removing retweets from df_twitter_clean table. In case of multiple ratings choose the last one."
   ]
  },
  {
   "cell_type": "markdown",
   "id": "f8537159",
   "metadata": {},
   "source": [
    "__Code__"
   ]
  },
  {
   "cell_type": "code",
   "execution_count": 43,
   "id": "45f7a1b3",
   "metadata": {},
   "outputs": [],
   "source": [
    "cols=['retweeted_status_id','retweeted_status_user_id','retweeted_status_timestamp']\n",
    "for col in cols:\n",
    "    df_twitter_clean=df_twitter_clean[df_twitter_clean[col].isnull()]\n",
    "\n"
   ]
  },
  {
   "cell_type": "code",
   "execution_count": 44,
   "id": "89851d7d",
   "metadata": {},
   "outputs": [],
   "source": [
    "#create a function, called get_score, which in case of multiple ratings gets the last rating\n",
    "def get_score(x):\n",
    "    if len(x)>1:\n",
    "        return x[-1]\n",
    "    elif len(x)==1:\n",
    "        return x[0]\n",
    "    else:\n",
    "        return np.nan\n",
    "numerator=df_twitter_clean[\"text\"].str.findall(r\"(\\d{1,4}/\\d{1,4})+\").apply(get_score).str.split(\"/\").str[0].str.rstrip(\",/.s)!\").astype(int)\n",
    "#extracts the numerator. Also we took care of characters that appears right after the numor or denom with rstrip()\n",
    "denominator=df_twitter_clean[\"text\"].str.findall(r\"(\\d{1,4}/\\d{1,4})+\").apply(get_score).str.split(\"/\").str[1].str.rstrip(\",/.s)!\").astype(int)\n",
    "#extracts the denominator. Also we took care of characters that appears right after the numor or denom with rstrip()\n",
    "df_twitter_clean[\"rating\"]=numerator/denominator\n",
    " #\\d{1,4}/\\d{1,4}.|\\d{1,4}/\\d{1,4}   "
   ]
  },
  {
   "cell_type": "code",
   "execution_count": 45,
   "id": "6c472145",
   "metadata": {},
   "outputs": [],
   "source": [
    "#Drop the columns rating_numerator, rating_denominator\n",
    "df_twitter_clean.drop(columns=[\"rating_denominator\",\"rating_numerator\"],inplace=True)#drop rating_denominator,\n",
    "#rating_numerator"
   ]
  },
  {
   "cell_type": "markdown",
   "id": "765d7c0c",
   "metadata": {},
   "source": [
    "__Test__"
   ]
  },
  {
   "cell_type": "code",
   "execution_count": 46,
   "id": "a8e3891a",
   "metadata": {},
   "outputs": [
    {
     "data": {
      "text/plain": [
       "retweeted_status_id           0\n",
       "retweeted_status_user_id      0\n",
       "retweeted_status_timestamp    0\n",
       "dtype: int64"
      ]
     },
     "execution_count": 46,
     "metadata": {},
     "output_type": "execute_result"
    }
   ],
   "source": [
    "df_twitter_clean[cols].notnull().sum()#retweets has been removes"
   ]
  },
  {
   "cell_type": "code",
   "execution_count": 47,
   "id": "b90469c7",
   "metadata": {},
   "outputs": [
    {
     "data": {
      "text/plain": [
       "0       1.3\n",
       "1       1.3\n",
       "2       1.2\n",
       "3       1.3\n",
       "4       1.2\n",
       "       ... \n",
       "2351    0.5\n",
       "2352    0.6\n",
       "2353    0.9\n",
       "2354    0.7\n",
       "2355    0.8\n",
       "Name: rating, Length: 2175, dtype: float64"
      ]
     },
     "execution_count": 47,
     "metadata": {},
     "output_type": "execute_result"
    }
   ],
   "source": [
    "df_twitter_clean[\"rating\"]#prints the rating"
   ]
  },
  {
   "cell_type": "markdown",
   "id": "7aa0d255",
   "metadata": {},
   "source": [
    "__Tidiness__"
   ]
  },
  {
   "cell_type": "markdown",
   "id": "0b2fd33d",
   "metadata": {},
   "source": [
    "__Define__\n",
    ">* Create a column called dog stage"
   ]
  },
  {
   "cell_type": "markdown",
   "id": "a117cfcb",
   "metadata": {},
   "source": [
    "__Code__"
   ]
  },
  {
   "cell_type": "code",
   "execution_count": 48,
   "id": "6d063a53",
   "metadata": {},
   "outputs": [],
   "source": [
    "#replace None with ''\n",
    "dog_stages=[\"doggo\",\"floofer\",\"pupper\",\"puppo\"]\n",
    "for stage in dog_stages:\n",
    "    df_twitter_clean[stage].replace(\"None\",\"\",inplace=True)"
   ]
  },
  {
   "cell_type": "code",
   "execution_count": 49,
   "id": "c0da71b9",
   "metadata": {},
   "outputs": [],
   "source": [
    "#define a new column dog_stage\n",
    "df_twitter_clean[\"dog_stage\"]=df_twitter_clean.doggo+df_twitter_clean.floofer+df_twitter_clean.pupper+\\\n",
    "df_twitter_clean.puppo\n"
   ]
  },
  {
   "cell_type": "code",
   "execution_count": 50,
   "id": "629b2500",
   "metadata": {},
   "outputs": [
    {
     "data": {
      "text/plain": [
       "                1792\n",
       "pupper           248\n",
       "doggo             82\n",
       "puppo             31\n",
       "doggopupper       10\n",
       "floofer            9\n",
       "doggopuppo         2\n",
       "doggofloofer       1\n",
       "Name: dog_stage, dtype: int64"
      ]
     },
     "execution_count": 50,
     "metadata": {},
     "output_type": "execute_result"
    }
   ],
   "source": [
    "df_twitter_clean[\"dog_stage\"].value_counts()"
   ]
  },
  {
   "cell_type": "code",
   "execution_count": 51,
   "id": "674f7978",
   "metadata": {},
   "outputs": [],
   "source": [
    "#Those one with multiple dog stages shoud be separeated with commas and \"\" should be changed with np.nan\n",
    "df_twitter_clean.loc[df_twitter_clean[\"dog_stage\"]==\"doggopuppo\",\"dog_stage\"]='doggo, puppo'\n",
    "df_twitter_clean.loc[df_twitter_clean[\"dog_stage\"]==\"doggopupper\",\"dog_stage\"]='doggo, pupper'\n",
    "df_twitter_clean.loc[df_twitter_clean[\"dog_stage\"]==\"doggofloofer\",\"dog_stage\"]='doggo, floofer'\n",
    "df_twitter_clean.loc[df_twitter_clean[\"dog_stage\"]==\"\",\"dog_stage\"]=np.nan"
   ]
  },
  {
   "cell_type": "code",
   "execution_count": 52,
   "id": "bba5d66e",
   "metadata": {},
   "outputs": [],
   "source": [
    "#drop the columns \"doggo\",\"puppo\", \"floofer\",\"pupper\"\n",
    "df_twitter_clean.drop(columns=[\"doggo\",\"puppo\",\"floofer\",\"pupper\"],inplace=True)"
   ]
  },
  {
   "cell_type": "markdown",
   "id": "2308ac53",
   "metadata": {},
   "source": [
    "__Test__"
   ]
  },
  {
   "cell_type": "code",
   "execution_count": 53,
   "id": "c9afc48c",
   "metadata": {},
   "outputs": [
    {
     "data": {
      "text/plain": [
       "pupper            248\n",
       "doggo              82\n",
       "puppo              31\n",
       "doggo, pupper      10\n",
       "floofer             9\n",
       "doggo, puppo        2\n",
       "doggo, floofer      1\n",
       "Name: dog_stage, dtype: int64"
      ]
     },
     "execution_count": 53,
     "metadata": {},
     "output_type": "execute_result"
    }
   ],
   "source": [
    "df_twitter_clean[\"dog_stage\"].value_counts()"
   ]
  },
  {
   "cell_type": "markdown",
   "id": "c150d39e",
   "metadata": {},
   "source": [
    "__Define__\n",
    ">* Merge df_json_clean and df_twitter_clean on \"tweet_id\n",
    ">* Drop the column `id`\n",
    ">* Drop the column `created_at` since it is duplicated with `timestamp`"
   ]
  },
  {
   "cell_type": "markdown",
   "id": "c4767429",
   "metadata": {},
   "source": [
    "__Code__"
   ]
  },
  {
   "cell_type": "code",
   "execution_count": 54,
   "id": "85128ccc",
   "metadata": {},
   "outputs": [],
   "source": [
    "df_twitter_merged_clean=df_twitter_clean.merge(df_json_clean,how=\"inner\",left_on=\"tweet_id\",right_on=\"id\")"
   ]
  },
  {
   "cell_type": "code",
   "execution_count": 55,
   "id": "3952d37a",
   "metadata": {},
   "outputs": [],
   "source": [
    "#drop columns such as \"id\" and \"created_at\" (it is duplicated with timestamp)\n",
    "df_twitter_merged_clean.drop(columns=[\"id\",\"created_at\"],inplace=True)\n"
   ]
  },
  {
   "cell_type": "markdown",
   "id": "1fd613bb",
   "metadata": {},
   "source": [
    "__Quality__\n"
   ]
  },
  {
   "cell_type": "markdown",
   "id": "b94f9b3e",
   "metadata": {},
   "source": [
    "__Define__\n",
    ">* Remove tags from the columns `source`\n",
    ">* Change `tweet_id` dtype to sring in `df_twitter_merged_clean` and `df_prediction_clean`\n",
    ">* Change `timestamp` to datetime\n",
    ">* Drop columns `in_reply_to_status_id`, `in_reply_to_user_id`,`retweeted_status_id`, `retweeted_status_user_id`,`retweeted_status_timestamp` (more than 97 % of the elements in these columne are missing and wewill not need them for our futre analysis)\n"
   ]
  },
  {
   "cell_type": "markdown",
   "id": "131555c8",
   "metadata": {},
   "source": [
    "__Code__"
   ]
  },
  {
   "cell_type": "code",
   "execution_count": 56,
   "id": "3ec892c2",
   "metadata": {},
   "outputs": [],
   "source": [
    "# Remove tags\n",
    "df_twitter_merged_clean[\"source\"]=df_twitter_merged_clean[\"source\"].str.findall(r\"[^<a></a>]\").str.join('')"
   ]
  },
  {
   "cell_type": "code",
   "execution_count": 57,
   "id": "363a5abd",
   "metadata": {},
   "outputs": [],
   "source": [
    "#Change the dtypes of tweet_id and timestamp\n",
    "df_twitter_merged_clean[\"tweet_id\"]=df_twitter_merged_clean[\"tweet_id\"].astype(str)\n",
    "df_prediction_clean[\"tweet_id\"]=df_prediction_clean[\"tweet_id\"].astype(str)\n",
    "df_twitter_merged_clean[\"timestamp\"]=pd.to_datetime(df_twitter_merged_clean[\"timestamp\"])"
   ]
  },
  {
   "cell_type": "code",
   "execution_count": 58,
   "id": "d46972f8",
   "metadata": {},
   "outputs": [],
   "source": [
    "df_twitter_merged_clean.drop(columns=['in_reply_to_status_id','in_reply_to_user_id','retweeted_status_id', 'retweeted_status_user_id',\n",
    "       'retweeted_status_timestamp'],inplace=True)"
   ]
  },
  {
   "cell_type": "markdown",
   "id": "d2f352de",
   "metadata": {},
   "source": [
    "__Test__"
   ]
  },
  {
   "cell_type": "code",
   "execution_count": 59,
   "id": "a97835f3",
   "metadata": {},
   "outputs": [
    {
     "data": {
      "text/plain": [
       "0        href=\"http:twitter.comdownlodiphone\" rel=\"nof...\n",
       "1        href=\"http:twitter.comdownlodiphone\" rel=\"nof...\n",
       "2        href=\"http:twitter.comdownlodiphone\" rel=\"nof...\n",
       "3        href=\"http:twitter.comdownlodiphone\" rel=\"nof...\n",
       "4        href=\"http:twitter.comdownlodiphone\" rel=\"nof...\n",
       "                              ...                        \n",
       "2170     href=\"http:twitter.comdownlodiphone\" rel=\"nof...\n",
       "2171     href=\"http:twitter.comdownlodiphone\" rel=\"nof...\n",
       "2172     href=\"http:twitter.comdownlodiphone\" rel=\"nof...\n",
       "2173     href=\"http:twitter.comdownlodiphone\" rel=\"nof...\n",
       "2174     href=\"http:twitter.comdownlodiphone\" rel=\"nof...\n",
       "Name: source, Length: 2175, dtype: object"
      ]
     },
     "execution_count": 59,
     "metadata": {},
     "output_type": "execute_result"
    }
   ],
   "source": [
    "df_twitter_merged_clean[\"source\"] #no tags"
   ]
  },
  {
   "cell_type": "code",
   "execution_count": 60,
   "id": "459abdcf",
   "metadata": {},
   "outputs": [
    {
     "name": "stdout",
     "output_type": "stream",
     "text": [
      "<class 'pandas.core.frame.DataFrame'>\n",
      "Int64Index: 2175 entries, 0 to 2174\n",
      "Data columns (total 10 columns):\n",
      " #   Column          Non-Null Count  Dtype              \n",
      "---  ------          --------------  -----              \n",
      " 0   tweet_id        2175 non-null   object             \n",
      " 1   timestamp       2175 non-null   datetime64[ns, UTC]\n",
      " 2   source          2175 non-null   object             \n",
      " 3   text            2175 non-null   object             \n",
      " 4   expanded_urls   2117 non-null   object             \n",
      " 5   name            1403 non-null   object             \n",
      " 6   rating          2175 non-null   float64            \n",
      " 7   dog_stage       383 non-null    object             \n",
      " 8   retweet_count   2175 non-null   int64              \n",
      " 9   favorite_count  2175 non-null   int64              \n",
      "dtypes: datetime64[ns, UTC](1), float64(1), int64(2), object(6)\n",
      "memory usage: 186.9+ KB\n"
     ]
    }
   ],
   "source": [
    "df_twitter_merged_clean.info()#the dtypes have been changed acccordingly"
   ]
  },
  {
   "cell_type": "markdown",
   "id": "a0d84675",
   "metadata": {},
   "source": [
    "__Define__\n",
    ">* For each row in the `df_prediction_clean` table keep only the algorithm with the maximum prediction (and its conclusions) and \n",
    "drop the columns that correspond to the other algorithms. In fact, create a dataframe, called `df_max` which in each row will contain the algorithm with maximum confidence,the breed and the image prediction that corresponds to that algorithm.\n",
    ">* Drop the colummns `p1`,`p1_conf`,`p1_dog`,`p2`,`p2_conf`,`p2_dog`,`p3`,`p3_conf` and`p3_dog` from df_prediction_clean\n",
    ">* Merge `df_max` with `df_prediction_clean` and call the resulting dataframe by `df_prediction_clean` again"
   ]
  },
  {
   "cell_type": "markdown",
   "id": "88f4398b",
   "metadata": {},
   "source": [
    "__Code__"
   ]
  },
  {
   "cell_type": "code",
   "execution_count": 61,
   "id": "bba68adc",
   "metadata": {},
   "outputs": [],
   "source": [
    "#This list conatians the algorithms with the naximum prediction\n",
    "max_conf=df_prediction_clean[[\"p1_conf\",\"p2_conf\",\"p3_conf\"]].apply(lambda x: np.argmax(x),axis=1).map({0:\"p1\",1:\"p2\",2:\"p3\"})"
   ]
  },
  {
   "cell_type": "code",
   "execution_count": 62,
   "id": "170434ca",
   "metadata": {},
   "outputs": [],
   "source": [
    "#This list contains the rows of df_max (will be created in the next cell) where each row has the maximum confidence\n",
    "# algorithm and the breed and image prediction corresponding to that algorithm\n",
    "max_list=[{\"max_conf\":df_prediction_clean.loc[ind,element+\"_conf\"],\"image_pred\":df_prediction_clean.loc[ind,element],\n",
    "           \"is_dog\":df_prediction_clean.loc[ind,element+\"_dog\"]}\n",
    "          for (ind,element) in enumerate(max_conf)]"
   ]
  },
  {
   "cell_type": "code",
   "execution_count": 63,
   "id": "f8d8b4a2",
   "metadata": {},
   "outputs": [
    {
     "data": {
      "text/html": [
       "<div>\n",
       "<style scoped>\n",
       "    .dataframe tbody tr th:only-of-type {\n",
       "        vertical-align: middle;\n",
       "    }\n",
       "\n",
       "    .dataframe tbody tr th {\n",
       "        vertical-align: top;\n",
       "    }\n",
       "\n",
       "    .dataframe thead th {\n",
       "        text-align: right;\n",
       "    }\n",
       "</style>\n",
       "<table border=\"1\" class=\"dataframe\">\n",
       "  <thead>\n",
       "    <tr style=\"text-align: right;\">\n",
       "      <th></th>\n",
       "      <th>max_conf</th>\n",
       "      <th>image_pred</th>\n",
       "      <th>is_dog</th>\n",
       "    </tr>\n",
       "  </thead>\n",
       "  <tbody>\n",
       "    <tr>\n",
       "      <th>0</th>\n",
       "      <td>0.465074</td>\n",
       "      <td>Welsh_springer_spaniel</td>\n",
       "      <td>True</td>\n",
       "    </tr>\n",
       "    <tr>\n",
       "      <th>1</th>\n",
       "      <td>0.506826</td>\n",
       "      <td>redbone</td>\n",
       "      <td>True</td>\n",
       "    </tr>\n",
       "    <tr>\n",
       "      <th>2</th>\n",
       "      <td>0.596461</td>\n",
       "      <td>German_shepherd</td>\n",
       "      <td>True</td>\n",
       "    </tr>\n",
       "    <tr>\n",
       "      <th>3</th>\n",
       "      <td>0.408143</td>\n",
       "      <td>Rhodesian_ridgeback</td>\n",
       "      <td>True</td>\n",
       "    </tr>\n",
       "    <tr>\n",
       "      <th>4</th>\n",
       "      <td>0.560311</td>\n",
       "      <td>miniature_pinscher</td>\n",
       "      <td>True</td>\n",
       "    </tr>\n",
       "  </tbody>\n",
       "</table>\n",
       "</div>"
      ],
      "text/plain": [
       "   max_conf              image_pred  is_dog\n",
       "0  0.465074  Welsh_springer_spaniel    True\n",
       "1  0.506826                 redbone    True\n",
       "2  0.596461         German_shepherd    True\n",
       "3  0.408143     Rhodesian_ridgeback    True\n",
       "4  0.560311      miniature_pinscher    True"
      ]
     },
     "execution_count": 63,
     "metadata": {},
     "output_type": "execute_result"
    }
   ],
   "source": [
    "df_max=pd.DataFrame(max_list) #Note: after I wrote teh above code I realized that p1 has the max prediction for \n",
    "#each image\n",
    "df_max.head()"
   ]
  },
  {
   "cell_type": "code",
   "execution_count": 64,
   "id": "159040a2",
   "metadata": {},
   "outputs": [],
   "source": [
    "df_prediction_clean.drop(columns=[\"p1\",\"p1_conf\",\"p1_dog\",\"p2\",\"p2_conf\",\"p2_dog\",\"p3\",\"p3_conf\",\"p3_dog\"],\n",
    "                         inplace=True) #Drop the columns"
   ]
  },
  {
   "cell_type": "code",
   "execution_count": 65,
   "id": "86b763cd",
   "metadata": {},
   "outputs": [],
   "source": [
    "df_prediction_clean=pd.concat([df_prediction_clean,df_max],axis=1)"
   ]
  },
  {
   "cell_type": "markdown",
   "id": "6f1c82c6",
   "metadata": {},
   "source": [
    "__Test__"
   ]
  },
  {
   "cell_type": "code",
   "execution_count": 66,
   "id": "c60d4d28",
   "metadata": {},
   "outputs": [
    {
     "data": {
      "text/html": [
       "<div>\n",
       "<style scoped>\n",
       "    .dataframe tbody tr th:only-of-type {\n",
       "        vertical-align: middle;\n",
       "    }\n",
       "\n",
       "    .dataframe tbody tr th {\n",
       "        vertical-align: top;\n",
       "    }\n",
       "\n",
       "    .dataframe thead th {\n",
       "        text-align: right;\n",
       "    }\n",
       "</style>\n",
       "<table border=\"1\" class=\"dataframe\">\n",
       "  <thead>\n",
       "    <tr style=\"text-align: right;\">\n",
       "      <th></th>\n",
       "      <th>tweet_id</th>\n",
       "      <th>jpg_url</th>\n",
       "      <th>img_num</th>\n",
       "      <th>max_conf</th>\n",
       "      <th>image_pred</th>\n",
       "      <th>is_dog</th>\n",
       "    </tr>\n",
       "  </thead>\n",
       "  <tbody>\n",
       "    <tr>\n",
       "      <th>0</th>\n",
       "      <td>666020888022790149</td>\n",
       "      <td>https://pbs.twimg.com/media/CT4udn0WwAA0aMy.jpg</td>\n",
       "      <td>1</td>\n",
       "      <td>0.465074</td>\n",
       "      <td>Welsh_springer_spaniel</td>\n",
       "      <td>True</td>\n",
       "    </tr>\n",
       "    <tr>\n",
       "      <th>1</th>\n",
       "      <td>666029285002620928</td>\n",
       "      <td>https://pbs.twimg.com/media/CT42GRgUYAA5iDo.jpg</td>\n",
       "      <td>1</td>\n",
       "      <td>0.506826</td>\n",
       "      <td>redbone</td>\n",
       "      <td>True</td>\n",
       "    </tr>\n",
       "    <tr>\n",
       "      <th>2</th>\n",
       "      <td>666033412701032449</td>\n",
       "      <td>https://pbs.twimg.com/media/CT4521TWwAEvMyu.jpg</td>\n",
       "      <td>1</td>\n",
       "      <td>0.596461</td>\n",
       "      <td>German_shepherd</td>\n",
       "      <td>True</td>\n",
       "    </tr>\n",
       "    <tr>\n",
       "      <th>3</th>\n",
       "      <td>666044226329800704</td>\n",
       "      <td>https://pbs.twimg.com/media/CT5Dr8HUEAA-lEu.jpg</td>\n",
       "      <td>1</td>\n",
       "      <td>0.408143</td>\n",
       "      <td>Rhodesian_ridgeback</td>\n",
       "      <td>True</td>\n",
       "    </tr>\n",
       "    <tr>\n",
       "      <th>4</th>\n",
       "      <td>666049248165822465</td>\n",
       "      <td>https://pbs.twimg.com/media/CT5IQmsXIAAKY4A.jpg</td>\n",
       "      <td>1</td>\n",
       "      <td>0.560311</td>\n",
       "      <td>miniature_pinscher</td>\n",
       "      <td>True</td>\n",
       "    </tr>\n",
       "  </tbody>\n",
       "</table>\n",
       "</div>"
      ],
      "text/plain": [
       "             tweet_id                                          jpg_url  \\\n",
       "0  666020888022790149  https://pbs.twimg.com/media/CT4udn0WwAA0aMy.jpg   \n",
       "1  666029285002620928  https://pbs.twimg.com/media/CT42GRgUYAA5iDo.jpg   \n",
       "2  666033412701032449  https://pbs.twimg.com/media/CT4521TWwAEvMyu.jpg   \n",
       "3  666044226329800704  https://pbs.twimg.com/media/CT5Dr8HUEAA-lEu.jpg   \n",
       "4  666049248165822465  https://pbs.twimg.com/media/CT5IQmsXIAAKY4A.jpg   \n",
       "\n",
       "   img_num  max_conf              image_pred  is_dog  \n",
       "0        1  0.465074  Welsh_springer_spaniel    True  \n",
       "1        1  0.506826                 redbone    True  \n",
       "2        1  0.596461         German_shepherd    True  \n",
       "3        1  0.408143     Rhodesian_ridgeback    True  \n",
       "4        1  0.560311      miniature_pinscher    True  "
      ]
     },
     "execution_count": 66,
     "metadata": {},
     "output_type": "execute_result"
    }
   ],
   "source": [
    "df_prediction_clean.head()"
   ]
  },
  {
   "cell_type": "markdown",
   "id": "578eb35b",
   "metadata": {},
   "source": [
    "__Create a master dtaframe and call it by `df_master`__ and save the contents of the `df_master` in the file\n",
    "`twitter_archive_master.csv`"
   ]
  },
  {
   "cell_type": "code",
   "execution_count": 67,
   "id": "bdf1ad65",
   "metadata": {},
   "outputs": [],
   "source": [
    "df_master=df_twitter_merged_clean.merge(df_prediction_clean,how=\"inner\",on=[\"tweet_id\"])"
   ]
  },
  {
   "cell_type": "code",
   "execution_count": 68,
   "id": "8a4d65d4",
   "metadata": {},
   "outputs": [
    {
     "data": {
      "text/html": [
       "<div>\n",
       "<style scoped>\n",
       "    .dataframe tbody tr th:only-of-type {\n",
       "        vertical-align: middle;\n",
       "    }\n",
       "\n",
       "    .dataframe tbody tr th {\n",
       "        vertical-align: top;\n",
       "    }\n",
       "\n",
       "    .dataframe thead th {\n",
       "        text-align: right;\n",
       "    }\n",
       "</style>\n",
       "<table border=\"1\" class=\"dataframe\">\n",
       "  <thead>\n",
       "    <tr style=\"text-align: right;\">\n",
       "      <th></th>\n",
       "      <th>tweet_id</th>\n",
       "      <th>timestamp</th>\n",
       "      <th>source</th>\n",
       "      <th>text</th>\n",
       "      <th>expanded_urls</th>\n",
       "      <th>name</th>\n",
       "      <th>rating</th>\n",
       "      <th>dog_stage</th>\n",
       "      <th>retweet_count</th>\n",
       "      <th>favorite_count</th>\n",
       "      <th>jpg_url</th>\n",
       "      <th>img_num</th>\n",
       "      <th>max_conf</th>\n",
       "      <th>image_pred</th>\n",
       "      <th>is_dog</th>\n",
       "    </tr>\n",
       "  </thead>\n",
       "  <tbody>\n",
       "    <tr>\n",
       "      <th>0</th>\n",
       "      <td>892420643555336193</td>\n",
       "      <td>2017-08-01 16:23:56+00:00</td>\n",
       "      <td>href=\"http:twitter.comdownlodiphone\" rel=\"nof...</td>\n",
       "      <td>This is Phineas. He's a mystical boy. Only eve...</td>\n",
       "      <td>https://twitter.com/dog_rates/status/892420643...</td>\n",
       "      <td>Phineas</td>\n",
       "      <td>1.3</td>\n",
       "      <td>NaN</td>\n",
       "      <td>8853</td>\n",
       "      <td>39467</td>\n",
       "      <td>https://pbs.twimg.com/media/DGKD1-bXoAAIAUK.jpg</td>\n",
       "      <td>1</td>\n",
       "      <td>0.097049</td>\n",
       "      <td>orange</td>\n",
       "      <td>False</td>\n",
       "    </tr>\n",
       "    <tr>\n",
       "      <th>1</th>\n",
       "      <td>892177421306343426</td>\n",
       "      <td>2017-08-01 00:17:27+00:00</td>\n",
       "      <td>href=\"http:twitter.comdownlodiphone\" rel=\"nof...</td>\n",
       "      <td>This is Tilly. She's just checking pup on you....</td>\n",
       "      <td>https://twitter.com/dog_rates/status/892177421...</td>\n",
       "      <td>Tilly</td>\n",
       "      <td>1.3</td>\n",
       "      <td>NaN</td>\n",
       "      <td>6514</td>\n",
       "      <td>33819</td>\n",
       "      <td>https://pbs.twimg.com/media/DGGmoV4XsAAUL6n.jpg</td>\n",
       "      <td>1</td>\n",
       "      <td>0.323581</td>\n",
       "      <td>Chihuahua</td>\n",
       "      <td>True</td>\n",
       "    </tr>\n",
       "    <tr>\n",
       "      <th>2</th>\n",
       "      <td>891815181378084864</td>\n",
       "      <td>2017-07-31 00:18:03+00:00</td>\n",
       "      <td>href=\"http:twitter.comdownlodiphone\" rel=\"nof...</td>\n",
       "      <td>This is Archie. He is a rare Norwegian Pouncin...</td>\n",
       "      <td>https://twitter.com/dog_rates/status/891815181...</td>\n",
       "      <td>Archie</td>\n",
       "      <td>1.2</td>\n",
       "      <td>NaN</td>\n",
       "      <td>4328</td>\n",
       "      <td>25461</td>\n",
       "      <td>https://pbs.twimg.com/media/DGBdLU1WsAANxJ9.jpg</td>\n",
       "      <td>1</td>\n",
       "      <td>0.716012</td>\n",
       "      <td>Chihuahua</td>\n",
       "      <td>True</td>\n",
       "    </tr>\n",
       "    <tr>\n",
       "      <th>3</th>\n",
       "      <td>891689557279858688</td>\n",
       "      <td>2017-07-30 15:58:51+00:00</td>\n",
       "      <td>href=\"http:twitter.comdownlodiphone\" rel=\"nof...</td>\n",
       "      <td>This is Darla. She commenced a snooze mid meal...</td>\n",
       "      <td>https://twitter.com/dog_rates/status/891689557...</td>\n",
       "      <td>Darla</td>\n",
       "      <td>1.3</td>\n",
       "      <td>NaN</td>\n",
       "      <td>8964</td>\n",
       "      <td>42908</td>\n",
       "      <td>https://pbs.twimg.com/media/DF_q7IAWsAEuuN8.jpg</td>\n",
       "      <td>1</td>\n",
       "      <td>0.170278</td>\n",
       "      <td>paper_towel</td>\n",
       "      <td>False</td>\n",
       "    </tr>\n",
       "    <tr>\n",
       "      <th>4</th>\n",
       "      <td>891327558926688256</td>\n",
       "      <td>2017-07-29 16:00:24+00:00</td>\n",
       "      <td>href=\"http:twitter.comdownlodiphone\" rel=\"nof...</td>\n",
       "      <td>This is Franklin. He would like you to stop ca...</td>\n",
       "      <td>https://twitter.com/dog_rates/status/891327558...</td>\n",
       "      <td>Franklin</td>\n",
       "      <td>1.2</td>\n",
       "      <td>NaN</td>\n",
       "      <td>9774</td>\n",
       "      <td>41048</td>\n",
       "      <td>https://pbs.twimg.com/media/DF6hr6BUMAAzZgT.jpg</td>\n",
       "      <td>2</td>\n",
       "      <td>0.555712</td>\n",
       "      <td>basset</td>\n",
       "      <td>True</td>\n",
       "    </tr>\n",
       "  </tbody>\n",
       "</table>\n",
       "</div>"
      ],
      "text/plain": [
       "             tweet_id                 timestamp  \\\n",
       "0  892420643555336193 2017-08-01 16:23:56+00:00   \n",
       "1  892177421306343426 2017-08-01 00:17:27+00:00   \n",
       "2  891815181378084864 2017-07-31 00:18:03+00:00   \n",
       "3  891689557279858688 2017-07-30 15:58:51+00:00   \n",
       "4  891327558926688256 2017-07-29 16:00:24+00:00   \n",
       "\n",
       "                                              source  \\\n",
       "0   href=\"http:twitter.comdownlodiphone\" rel=\"nof...   \n",
       "1   href=\"http:twitter.comdownlodiphone\" rel=\"nof...   \n",
       "2   href=\"http:twitter.comdownlodiphone\" rel=\"nof...   \n",
       "3   href=\"http:twitter.comdownlodiphone\" rel=\"nof...   \n",
       "4   href=\"http:twitter.comdownlodiphone\" rel=\"nof...   \n",
       "\n",
       "                                                text  \\\n",
       "0  This is Phineas. He's a mystical boy. Only eve...   \n",
       "1  This is Tilly. She's just checking pup on you....   \n",
       "2  This is Archie. He is a rare Norwegian Pouncin...   \n",
       "3  This is Darla. She commenced a snooze mid meal...   \n",
       "4  This is Franklin. He would like you to stop ca...   \n",
       "\n",
       "                                       expanded_urls      name  rating  \\\n",
       "0  https://twitter.com/dog_rates/status/892420643...   Phineas     1.3   \n",
       "1  https://twitter.com/dog_rates/status/892177421...     Tilly     1.3   \n",
       "2  https://twitter.com/dog_rates/status/891815181...    Archie     1.2   \n",
       "3  https://twitter.com/dog_rates/status/891689557...     Darla     1.3   \n",
       "4  https://twitter.com/dog_rates/status/891327558...  Franklin     1.2   \n",
       "\n",
       "  dog_stage  retweet_count  favorite_count  \\\n",
       "0       NaN           8853           39467   \n",
       "1       NaN           6514           33819   \n",
       "2       NaN           4328           25461   \n",
       "3       NaN           8964           42908   \n",
       "4       NaN           9774           41048   \n",
       "\n",
       "                                           jpg_url  img_num  max_conf  \\\n",
       "0  https://pbs.twimg.com/media/DGKD1-bXoAAIAUK.jpg        1  0.097049   \n",
       "1  https://pbs.twimg.com/media/DGGmoV4XsAAUL6n.jpg        1  0.323581   \n",
       "2  https://pbs.twimg.com/media/DGBdLU1WsAANxJ9.jpg        1  0.716012   \n",
       "3  https://pbs.twimg.com/media/DF_q7IAWsAEuuN8.jpg        1  0.170278   \n",
       "4  https://pbs.twimg.com/media/DF6hr6BUMAAzZgT.jpg        2  0.555712   \n",
       "\n",
       "    image_pred  is_dog  \n",
       "0       orange   False  \n",
       "1    Chihuahua    True  \n",
       "2    Chihuahua    True  \n",
       "3  paper_towel   False  \n",
       "4       basset    True  "
      ]
     },
     "execution_count": 68,
     "metadata": {},
     "output_type": "execute_result"
    }
   ],
   "source": [
    "df_master.head()#prints the first 5 rows"
   ]
  },
  {
   "cell_type": "code",
   "execution_count": 69,
   "id": "a56863c5",
   "metadata": {},
   "outputs": [],
   "source": [
    "df_master.to_csv(\"twitter-archive-master.csv\",index=False)"
   ]
  },
  {
   "cell_type": "markdown",
   "id": "e8707d9e",
   "metadata": {},
   "source": [
    "__Create the database called `dogs.db` and then store `df_master` in the table `master`. Since this table already exists in my jupyter dashboard I'll comment the code below.__ "
   ]
  },
  {
   "cell_type": "code",
   "execution_count": 70,
   "id": "667b3612",
   "metadata": {},
   "outputs": [],
   "source": [
    "engine = create_engine('sqlite:///dogs.db')#creates an empty database dogs.db\n",
    "#df_master.to_sql('master', engine, index=False)# Store cleaned master DataFrame ('df_master') \n",
    "#in a table called master in dogs.db"
   ]
  },
  {
   "cell_type": "markdown",
   "id": "090e98f3",
   "metadata": {},
   "source": [
    "<a id='visualizing'></a>\n",
    "# Visualize\n",
    "## Q 1. What are top 5  most  popular names of objects appearing in the images?\n",
    "## Q 2. What are the top 5  most popular dog names ?\n",
    "## Q 3. What are the top 5 names(or top 5 dog stages) based on the average of ratings of images or on the average number  of 'likes'?\n",
    "## Q 4. Are the ratings, 'likes', number of retweets correlated to each other?\n",
    "\n"
   ]
  },
  {
   "cell_type": "markdown",
   "id": "63ea9923",
   "metadata": {},
   "source": [
    ">* What are the top 5 most popular names of objects appearing in the images?"
   ]
  },
  {
   "cell_type": "code",
   "execution_count": 71,
   "id": "f796b586",
   "metadata": {},
   "outputs": [
    {
     "data": {
      "text/html": [
       "<div>\n",
       "<style scoped>\n",
       "    .dataframe tbody tr th:only-of-type {\n",
       "        vertical-align: middle;\n",
       "    }\n",
       "\n",
       "    .dataframe tbody tr th {\n",
       "        vertical-align: top;\n",
       "    }\n",
       "\n",
       "    .dataframe thead th {\n",
       "        text-align: right;\n",
       "    }\n",
       "</style>\n",
       "<table border=\"1\" class=\"dataframe\">\n",
       "  <thead>\n",
       "    <tr style=\"text-align: right;\">\n",
       "      <th></th>\n",
       "      <th>name</th>\n",
       "      <th>freq_names</th>\n",
       "    </tr>\n",
       "  </thead>\n",
       "  <tbody>\n",
       "    <tr>\n",
       "      <th>0</th>\n",
       "      <td>Charlie</td>\n",
       "      <td>11</td>\n",
       "    </tr>\n",
       "    <tr>\n",
       "      <th>1</th>\n",
       "      <td>Oliver</td>\n",
       "      <td>10</td>\n",
       "    </tr>\n",
       "    <tr>\n",
       "      <th>2</th>\n",
       "      <td>Lucy</td>\n",
       "      <td>10</td>\n",
       "    </tr>\n",
       "    <tr>\n",
       "      <th>3</th>\n",
       "      <td>Cooper</td>\n",
       "      <td>10</td>\n",
       "    </tr>\n",
       "    <tr>\n",
       "      <th>4</th>\n",
       "      <td>Tucker</td>\n",
       "      <td>9</td>\n",
       "    </tr>\n",
       "  </tbody>\n",
       "</table>\n",
       "</div>"
      ],
      "text/plain": [
       "      name  freq_names\n",
       "0  Charlie          11\n",
       "1   Oliver          10\n",
       "2     Lucy          10\n",
       "3   Cooper          10\n",
       "4   Tucker           9"
      ]
     },
     "execution_count": 71,
     "metadata": {},
     "output_type": "execute_result"
    }
   ],
   "source": [
    "query='''select  name, count(1) as freq_names from master where name is not null group by name \n",
    "order by count(1) desc'''\n",
    "df_name=pd.read_sql(query,engine)\n",
    "df_name.head() # as we can see below Charlie is the most popular name"
   ]
  },
  {
   "cell_type": "code",
   "execution_count": 72,
   "id": "9ab67a3d",
   "metadata": {},
   "outputs": [
    {
     "data": {
      "image/png": "[encoded data removed]",
      "text/plain": [
       "<Figure size 432x288 with 1 Axes>"
      ]
     },
     "metadata": {
      "needs_background": "light"
     },
     "output_type": "display_data"
    }
   ],
   "source": [
    "#visualize the above dataframe\n",
    "df_name.head().plot(kind=\"bar\",x=\"name\",y=\"freq_names\",rot=30,color=\"r\",ylabel=\"frequency of names\",fontsize=12)\n",
    "plt.title(\"The top 5 popular names\")\n",
    "plt.savefig(\"top_5_names.png\")"
   ]
  },
  {
   "cell_type": "code",
   "execution_count": 73,
   "id": "ba83e248",
   "metadata": {},
   "outputs": [
    {
     "data": {
      "text/plain": [
       "195     https://pbs.twimg.com/media/C7iNfq1W0AAcbsR.jpg\n",
       "200     https://pbs.twimg.com/media/C7JkO0rX0AErh7X.jpg\n",
       "244     https://pbs.twimg.com/media/C5JYaYoVYAAcEQw.jpg\n",
       "252     https://pbs.twimg.com/media/C40r_GDWAAA5vNJ.jpg\n",
       "287     https://pbs.twimg.com/media/C3rN-lcWEAA9CmR.jpg\n",
       "592     https://pbs.twimg.com/media/CrOBSfgXgAABsTE.jpg\n",
       "688     https://pbs.twimg.com/media/CnbJuPoXEAAjcVF.jpg\n",
       "1061    https://pbs.twimg.com/media/CcLq7ipW4AArSGZ.jpg\n",
       "1133    https://pbs.twimg.com/media/Ca0lzzmWwAA5u56.jpg\n",
       "1346    https://pbs.twimg.com/media/CXaQqGbWMAAKEgN.jpg\n",
       "1693    https://pbs.twimg.com/media/CVGp4LKWoAAoD03.jpg\n",
       "Name: jpg_url, dtype: object"
      ]
     },
     "execution_count": 73,
     "metadata": {},
     "output_type": "execute_result"
    }
   ],
   "source": [
    "df_master[df_master[\"name\"]==\"Charlie\"][\"jpg_url\"] #prints the images corresponding to the name Charlie"
   ]
  },
  {
   "cell_type": "markdown",
   "id": "b034c9f7",
   "metadata": {},
   "source": [
    ">__By clicking the above links we can see that all the images with the name Charlie depict dog(s) except for the image 9 which \n",
    "depicts a dog and horses.__\n",
    "<img src=\"https://pbs.twimg.com/media/Ca0lzzmWwAA5u56.jpg\" alt=\"horse and dog\" width=\"250\" height=\"300\"/>"
   ]
  },
  {
   "cell_type": "markdown",
   "id": "d963497a",
   "metadata": {},
   "source": [
    ">* What are the top 5 most popular dog names? Here we will use the column `is_dog`, the prediction made by neural network algorithm whether a dog is depicted in the image or not\n"
   ]
  },
  {
   "cell_type": "code",
   "execution_count": 74,
   "id": "47d66cb7",
   "metadata": {},
   "outputs": [],
   "source": [
    "query='''select name, count(1) as freq from master where is_dog=True and name is not null \n",
    "group by name order by 2 desc limit 5'''\n",
    "df_dogname=pd.read_sql(query,engine)"
   ]
  },
  {
   "cell_type": "code",
   "execution_count": 75,
   "id": "fbd56a13",
   "metadata": {},
   "outputs": [
    {
     "data": {
      "text/html": [
       "<div>\n",
       "<style scoped>\n",
       "    .dataframe tbody tr th:only-of-type {\n",
       "        vertical-align: middle;\n",
       "    }\n",
       "\n",
       "    .dataframe tbody tr th {\n",
       "        vertical-align: top;\n",
       "    }\n",
       "\n",
       "    .dataframe thead th {\n",
       "        text-align: right;\n",
       "    }\n",
       "</style>\n",
       "<table border=\"1\" class=\"dataframe\">\n",
       "  <thead>\n",
       "    <tr style=\"text-align: right;\">\n",
       "      <th></th>\n",
       "      <th>name</th>\n",
       "      <th>freq</th>\n",
       "    </tr>\n",
       "  </thead>\n",
       "  <tbody>\n",
       "    <tr>\n",
       "      <th>0</th>\n",
       "      <td>Cooper</td>\n",
       "      <td>10</td>\n",
       "    </tr>\n",
       "    <tr>\n",
       "      <th>1</th>\n",
       "      <td>Charlie</td>\n",
       "      <td>10</td>\n",
       "    </tr>\n",
       "    <tr>\n",
       "      <th>2</th>\n",
       "      <td>Oliver</td>\n",
       "      <td>9</td>\n",
       "    </tr>\n",
       "    <tr>\n",
       "      <th>3</th>\n",
       "      <td>Tucker</td>\n",
       "      <td>8</td>\n",
       "    </tr>\n",
       "    <tr>\n",
       "      <th>4</th>\n",
       "      <td>Lucy</td>\n",
       "      <td>8</td>\n",
       "    </tr>\n",
       "  </tbody>\n",
       "</table>\n",
       "</div>"
      ],
      "text/plain": [
       "      name  freq\n",
       "0   Cooper    10\n",
       "1  Charlie    10\n",
       "2   Oliver     9\n",
       "3   Tucker     8\n",
       "4     Lucy     8"
      ]
     },
     "execution_count": 75,
     "metadata": {},
     "output_type": "execute_result"
    }
   ],
   "source": [
    "df_dogname"
   ]
  },
  {
   "cell_type": "code",
   "execution_count": 76,
   "id": "82555549",
   "metadata": {},
   "outputs": [
    {
     "data": {
      "image/png": "[encoded data removed]",
      "text/plain": [
       "<Figure size 432x288 with 1 Axes>"
      ]
     },
     "metadata": {
      "needs_background": "light"
     },
     "output_type": "display_data"
    }
   ],
   "source": [
    "df_dogname.plot(kind=\"bar\",color=\"green\")\n",
    "plt.ylabel(\"frequency of dog names\",fontsize=12)\n",
    "plt.xticks([0,1,2,3,4],df_dogname[\"name\"].tolist(),rotation=30,fontsize=12,color=\"r\");\n",
    "plt.title(\"Top 5 popular dog names based on the algorithm\");\n",
    "plt.savefig(\"top_dog_names.png\")"
   ]
  },
  {
   "cell_type": "markdown",
   "id": "711cd52b",
   "metadata": {},
   "source": [
    "Looking at the above barplot we can see that Charlie is not anymore the most popular dog name (frequency 10) since Cooper has frequency 10 as well. I suspect that the algorithm does not recognize that that the above image besides horses has a dog as well. Below I give the code to see if my intuition is correct."
   ]
  },
  {
   "cell_type": "code",
   "execution_count": 77,
   "id": "dcf0768f",
   "metadata": {},
   "outputs": [
    {
     "data": {
      "text/html": [
       "<div>\n",
       "<style scoped>\n",
       "    .dataframe tbody tr th:only-of-type {\n",
       "        vertical-align: middle;\n",
       "    }\n",
       "\n",
       "    .dataframe tbody tr th {\n",
       "        vertical-align: top;\n",
       "    }\n",
       "\n",
       "    .dataframe thead th {\n",
       "        text-align: right;\n",
       "    }\n",
       "</style>\n",
       "<table border=\"1\" class=\"dataframe\">\n",
       "  <thead>\n",
       "    <tr style=\"text-align: right;\">\n",
       "      <th></th>\n",
       "      <th>is_dog</th>\n",
       "      <th>jpg_url</th>\n",
       "    </tr>\n",
       "  </thead>\n",
       "  <tbody>\n",
       "    <tr>\n",
       "      <th>195</th>\n",
       "      <td>False</td>\n",
       "      <td>https://pbs.twimg.com/media/C7iNfq1W0AAcbsR.jpg</td>\n",
       "    </tr>\n",
       "    <tr>\n",
       "      <th>200</th>\n",
       "      <td>True</td>\n",
       "      <td>https://pbs.twimg.com/media/C7JkO0rX0AErh7X.jpg</td>\n",
       "    </tr>\n",
       "    <tr>\n",
       "      <th>244</th>\n",
       "      <td>True</td>\n",
       "      <td>https://pbs.twimg.com/media/C5JYaYoVYAAcEQw.jpg</td>\n",
       "    </tr>\n",
       "    <tr>\n",
       "      <th>252</th>\n",
       "      <td>True</td>\n",
       "      <td>https://pbs.twimg.com/media/C40r_GDWAAA5vNJ.jpg</td>\n",
       "    </tr>\n",
       "    <tr>\n",
       "      <th>287</th>\n",
       "      <td>True</td>\n",
       "      <td>https://pbs.twimg.com/media/C3rN-lcWEAA9CmR.jpg</td>\n",
       "    </tr>\n",
       "    <tr>\n",
       "      <th>592</th>\n",
       "      <td>True</td>\n",
       "      <td>https://pbs.twimg.com/media/CrOBSfgXgAABsTE.jpg</td>\n",
       "    </tr>\n",
       "    <tr>\n",
       "      <th>688</th>\n",
       "      <td>True</td>\n",
       "      <td>https://pbs.twimg.com/media/CnbJuPoXEAAjcVF.jpg</td>\n",
       "    </tr>\n",
       "    <tr>\n",
       "      <th>1061</th>\n",
       "      <td>True</td>\n",
       "      <td>https://pbs.twimg.com/media/CcLq7ipW4AArSGZ.jpg</td>\n",
       "    </tr>\n",
       "    <tr>\n",
       "      <th>1133</th>\n",
       "      <td>True</td>\n",
       "      <td>https://pbs.twimg.com/media/Ca0lzzmWwAA5u56.jpg</td>\n",
       "    </tr>\n",
       "    <tr>\n",
       "      <th>1346</th>\n",
       "      <td>True</td>\n",
       "      <td>https://pbs.twimg.com/media/CXaQqGbWMAAKEgN.jpg</td>\n",
       "    </tr>\n",
       "    <tr>\n",
       "      <th>1693</th>\n",
       "      <td>True</td>\n",
       "      <td>https://pbs.twimg.com/media/CVGp4LKWoAAoD03.jpg</td>\n",
       "    </tr>\n",
       "  </tbody>\n",
       "</table>\n",
       "</div>"
      ],
      "text/plain": [
       "      is_dog                                          jpg_url\n",
       "195    False  https://pbs.twimg.com/media/C7iNfq1W0AAcbsR.jpg\n",
       "200     True  https://pbs.twimg.com/media/C7JkO0rX0AErh7X.jpg\n",
       "244     True  https://pbs.twimg.com/media/C5JYaYoVYAAcEQw.jpg\n",
       "252     True  https://pbs.twimg.com/media/C40r_GDWAAA5vNJ.jpg\n",
       "287     True  https://pbs.twimg.com/media/C3rN-lcWEAA9CmR.jpg\n",
       "592     True  https://pbs.twimg.com/media/CrOBSfgXgAABsTE.jpg\n",
       "688     True  https://pbs.twimg.com/media/CnbJuPoXEAAjcVF.jpg\n",
       "1061    True  https://pbs.twimg.com/media/CcLq7ipW4AArSGZ.jpg\n",
       "1133    True  https://pbs.twimg.com/media/Ca0lzzmWwAA5u56.jpg\n",
       "1346    True  https://pbs.twimg.com/media/CXaQqGbWMAAKEgN.jpg\n",
       "1693    True  https://pbs.twimg.com/media/CVGp4LKWoAAoD03.jpg"
      ]
     },
     "execution_count": 77,
     "metadata": {},
     "output_type": "execute_result"
    }
   ],
   "source": [
    "df_master.query('name==\"Charlie\"')[[\"is_dog\",\"jpg_url\"]]"
   ]
  },
  {
   "cell_type": "markdown",
   "id": "6d8f1b17",
   "metadata": {},
   "source": [
    "Surprisingly the image with horses and the dog is recognized correclty. What is not recognized correctly \n",
    "is the following image\n",
    "\n",
    "<img src=\"https://pbs.twimg.com/media/C7iNfq1W0AAcbsR.jpg\" alt=\"dog\" width=\"250\" height=\"300\"/>\n"
   ]
  },
  {
   "cell_type": "markdown",
   "id": "761ccdb1",
   "metadata": {},
   "source": [
    ">* What are the top 5 names based on the average of ratings of images (same based on the average number of 'likes')?"
   ]
  },
  {
   "cell_type": "code",
   "execution_count": 78,
   "id": "8b5fc3be",
   "metadata": {},
   "outputs": [
    {
     "data": {
      "image/png": "[encoded data removed]",
      "text/plain": [
       "<Figure size 720x864 with 4 Axes>"
      ]
     },
     "metadata": {
      "needs_background": "light"
     },
     "output_type": "display_data"
    }
   ],
   "source": [
    "#Befor we answer this question let's take a look at the distribution of ratings and likes\n",
    "fig,ax=plt.subplots(2,2,figsize=(10,12))\n",
    "ax[0,0].boxplot(df_master[\"rating\"])\n",
    "ax[0,0].set(title=\"boxplot for ratings\")\n",
    "ax[0,1].hist(df_master[\"rating\"],bins=[0,0.5,1,1.5,2],color=\"g\")\n",
    "ax[0,1].set(title=\"histogram for ratings\",xlabel=\"raings\",ylabel='frequency')\n",
    "ax[1,0].boxplot(df_master[\"favorite_count\"])\n",
    "ax[1,0].set(title=\"boxplot for likes\")\n",
    "ax[1,1].hist(df_master[\"favorite_count\"],bins=[k for k in range(0,50000,1000)],color=\"green\",\n",
    "             histtype=\"bar\")\n",
    "ax[1,1].set(title=\"histogram for likes\",xlabel=\"likes\",ylabel='frequency');"
   ]
  },
  {
   "cell_type": "markdown",
   "id": "9f4aac44",
   "metadata": {},
   "source": [
    ">  As we can see both `rating` and `favorite_count` are skewed. As a result, we need to remove the outliers from these features ohtervise the corresponding averages will be inflated or deflated. The code below (function named `top_names`) show the top 5 names with the highest average ratings/likes."
   ]
  },
  {
   "cell_type": "code",
   "execution_count": 79,
   "id": "23500469",
   "metadata": {},
   "outputs": [],
   "source": [
    "#Anything outside of [Q1-1.5*(Q3-Q1),Q3+1.5(Q3-Q1)] will be considered an outlier\n",
    "def top_names(names=5,col=\"rating\",is_dog=False):\n",
    "    q1=df_master[col].describe()[\"25%\"]\n",
    "    q3=df_master[col].describe()[\"75%\"]\n",
    "    R=q3-q1 # need this to remove outliers\n",
    "    if not is_dog:\n",
    "        query=f'''select name, avg({col}) as {col}_average from master \n",
    "        where ({col}>={q1-1.5*R} and {col}<={q3+1.5*(R)})and (name is not null)group by name order by 2 desc '''\n",
    "        df=pd.read_sql(query,engine)\n",
    "        return df.head(names)\n",
    "    else:\n",
    "        query=f'''select name, avg({col}) as {col}_average from master \n",
    "        where ({col}>={q1-1.5*R} and {col}<={q3+1.5*(R)})and (name is not null) and (is_dog=True)group by name order by 2 desc '''\n",
    "        df=pd.read_sql(query,engine)\n",
    "        return df.head(names)\n"
   ]
  },
  {
   "cell_type": "code",
   "execution_count": 80,
   "id": "3a33af0f",
   "metadata": {},
   "outputs": [
    {
     "name": "stdout",
     "output_type": "stream",
     "text": [
      "The top 5 names with the highest average ratings are \n"
     ]
    },
    {
     "data": {
      "text/html": [
       "<div>\n",
       "<style scoped>\n",
       "    .dataframe tbody tr th:only-of-type {\n",
       "        vertical-align: middle;\n",
       "    }\n",
       "\n",
       "    .dataframe tbody tr th {\n",
       "        vertical-align: top;\n",
       "    }\n",
       "\n",
       "    .dataframe thead th {\n",
       "        text-align: right;\n",
       "    }\n",
       "</style>\n",
       "<table border=\"1\" class=\"dataframe\">\n",
       "  <thead>\n",
       "    <tr style=\"text-align: right;\">\n",
       "      <th></th>\n",
       "      <th>name</th>\n",
       "      <th>rating_average</th>\n",
       "    </tr>\n",
       "  </thead>\n",
       "  <tbody>\n",
       "    <tr>\n",
       "      <th>0</th>\n",
       "      <td>Sundance</td>\n",
       "      <td>1.4</td>\n",
       "    </tr>\n",
       "    <tr>\n",
       "      <th>1</th>\n",
       "      <td>Smiley</td>\n",
       "      <td>1.4</td>\n",
       "    </tr>\n",
       "    <tr>\n",
       "      <th>2</th>\n",
       "      <td>Laika</td>\n",
       "      <td>1.4</td>\n",
       "    </tr>\n",
       "    <tr>\n",
       "      <th>3</th>\n",
       "      <td>Kuyu</td>\n",
       "      <td>1.4</td>\n",
       "    </tr>\n",
       "    <tr>\n",
       "      <th>4</th>\n",
       "      <td>Iggy</td>\n",
       "      <td>1.4</td>\n",
       "    </tr>\n",
       "  </tbody>\n",
       "</table>\n",
       "</div>"
      ],
      "text/plain": [
       "       name  rating_average\n",
       "0  Sundance             1.4\n",
       "1    Smiley             1.4\n",
       "2     Laika             1.4\n",
       "3      Kuyu             1.4\n",
       "4      Iggy             1.4"
      ]
     },
     "execution_count": 80,
     "metadata": {},
     "output_type": "execute_result"
    }
   ],
   "source": [
    "print(\"The top 5 names with the highest average ratings are \")    \n",
    "top_names(5)#prints the top 5 names"
   ]
  },
  {
   "cell_type": "code",
   "execution_count": 81,
   "id": "407cf896",
   "metadata": {},
   "outputs": [
    {
     "name": "stdout",
     "output_type": "stream",
     "text": [
      "The top 5 dog names with the highest average number of likes are \n"
     ]
    },
    {
     "data": {
      "text/html": [
       "<div>\n",
       "<style scoped>\n",
       "    .dataframe tbody tr th:only-of-type {\n",
       "        vertical-align: middle;\n",
       "    }\n",
       "\n",
       "    .dataframe tbody tr th {\n",
       "        vertical-align: top;\n",
       "    }\n",
       "\n",
       "    .dataframe thead th {\n",
       "        text-align: right;\n",
       "    }\n",
       "</style>\n",
       "<table border=\"1\" class=\"dataframe\">\n",
       "  <thead>\n",
       "    <tr style=\"text-align: right;\">\n",
       "      <th></th>\n",
       "      <th>name</th>\n",
       "      <th>rating_average</th>\n",
       "    </tr>\n",
       "  </thead>\n",
       "  <tbody>\n",
       "    <tr>\n",
       "      <th>0</th>\n",
       "      <td>Sundance</td>\n",
       "      <td>1.4</td>\n",
       "    </tr>\n",
       "    <tr>\n",
       "      <th>1</th>\n",
       "      <td>Smiley</td>\n",
       "      <td>1.4</td>\n",
       "    </tr>\n",
       "    <tr>\n",
       "      <th>2</th>\n",
       "      <td>Ollie</td>\n",
       "      <td>1.4</td>\n",
       "    </tr>\n",
       "    <tr>\n",
       "      <th>3</th>\n",
       "      <td>Kuyu</td>\n",
       "      <td>1.4</td>\n",
       "    </tr>\n",
       "    <tr>\n",
       "      <th>4</th>\n",
       "      <td>Emmy</td>\n",
       "      <td>1.4</td>\n",
       "    </tr>\n",
       "  </tbody>\n",
       "</table>\n",
       "</div>"
      ],
      "text/plain": [
       "       name  rating_average\n",
       "0  Sundance             1.4\n",
       "1    Smiley             1.4\n",
       "2     Ollie             1.4\n",
       "3      Kuyu             1.4\n",
       "4      Emmy             1.4"
      ]
     },
     "execution_count": 81,
     "metadata": {},
     "output_type": "execute_result"
    }
   ],
   "source": [
    "print(\"The top 5 dog names with the highest average number of likes are \")\n",
    "top_names(5,is_dog=True) #prints the top 5 dog names based always on the algorithm (neural network)"
   ]
  },
  {
   "cell_type": "code",
   "execution_count": 82,
   "id": "e390ef5a",
   "metadata": {},
   "outputs": [
    {
     "data": {
      "text/html": [
       "<div>\n",
       "<style scoped>\n",
       "    .dataframe tbody tr th:only-of-type {\n",
       "        vertical-align: middle;\n",
       "    }\n",
       "\n",
       "    .dataframe tbody tr th {\n",
       "        vertical-align: top;\n",
       "    }\n",
       "\n",
       "    .dataframe thead th {\n",
       "        text-align: right;\n",
       "    }\n",
       "</style>\n",
       "<table border=\"1\" class=\"dataframe\">\n",
       "  <thead>\n",
       "    <tr style=\"text-align: right;\">\n",
       "      <th></th>\n",
       "      <th>name</th>\n",
       "      <th>favorite_count_average</th>\n",
       "    </tr>\n",
       "  </thead>\n",
       "  <tbody>\n",
       "    <tr>\n",
       "      <th>0</th>\n",
       "      <td>Georgie</td>\n",
       "      <td>25296.0</td>\n",
       "    </tr>\n",
       "    <tr>\n",
       "      <th>1</th>\n",
       "      <td>Dawn</td>\n",
       "      <td>24926.0</td>\n",
       "    </tr>\n",
       "    <tr>\n",
       "      <th>2</th>\n",
       "      <td>Rey</td>\n",
       "      <td>24773.0</td>\n",
       "    </tr>\n",
       "    <tr>\n",
       "      <th>3</th>\n",
       "      <td>Kevin</td>\n",
       "      <td>24765.0</td>\n",
       "    </tr>\n",
       "    <tr>\n",
       "      <th>4</th>\n",
       "      <td>Wafer</td>\n",
       "      <td>24597.0</td>\n",
       "    </tr>\n",
       "  </tbody>\n",
       "</table>\n",
       "</div>"
      ],
      "text/plain": [
       "      name  favorite_count_average\n",
       "0  Georgie                 25296.0\n",
       "1     Dawn                 24926.0\n",
       "2      Rey                 24773.0\n",
       "3    Kevin                 24765.0\n",
       "4    Wafer                 24597.0"
      ]
     },
     "execution_count": 82,
     "metadata": {},
     "output_type": "execute_result"
    }
   ],
   "source": [
    "#Let's look at the top 5 names whose images received the highest averages number of likes\n",
    "top_names(col=\"favorite_count\")"
   ]
  },
  {
   "cell_type": "markdown",
   "id": "4a4fa261",
   "metadata": {},
   "source": [
    "> To extract the top 5 dog stages beased on the average number of ratings or 'likes' we will use teh function\n",
    "`top_dog_stages` (the code is given below)"
   ]
  },
  {
   "cell_type": "code",
   "execution_count": 83,
   "id": "c35d04d9",
   "metadata": {},
   "outputs": [],
   "source": [
    "def top_dog_stages(names=5,col=\"rating\"):\n",
    "    q1=df_master[col].describe()[\"25%\"]\n",
    "    q3=df_master[col].describe()[\"75%\"]\n",
    "    R=q3-q1 # need this to remove outliers\n",
    "    query=f'''select dog_stage, avg({col}) as {col}_average from master \n",
    "    where ({col}>={q1-1.5*R} and {col}<={q3+1.5*(R)})and (dog_stage is not null)group by dog_stage order by 2 desc '''\n",
    "    df=pd.read_sql(query,engine)\n",
    "    return df.head(names)"
   ]
  },
  {
   "cell_type": "code",
   "execution_count": 84,
   "id": "4e8cab08",
   "metadata": {},
   "outputs": [
    {
     "data": {
      "text/html": [
       "<div>\n",
       "<style scoped>\n",
       "    .dataframe tbody tr th:only-of-type {\n",
       "        vertical-align: middle;\n",
       "    }\n",
       "\n",
       "    .dataframe tbody tr th {\n",
       "        vertical-align: top;\n",
       "    }\n",
       "\n",
       "    .dataframe thead th {\n",
       "        text-align: right;\n",
       "    }\n",
       "</style>\n",
       "<table border=\"1\" class=\"dataframe\">\n",
       "  <thead>\n",
       "    <tr style=\"text-align: right;\">\n",
       "      <th></th>\n",
       "      <th>dog_stage</th>\n",
       "      <th>rating_average</th>\n",
       "    </tr>\n",
       "  </thead>\n",
       "  <tbody>\n",
       "    <tr>\n",
       "      <th>0</th>\n",
       "      <td>doggo, puppo</td>\n",
       "      <td>1.300000</td>\n",
       "    </tr>\n",
       "    <tr>\n",
       "      <th>1</th>\n",
       "      <td>puppo</td>\n",
       "      <td>1.211111</td>\n",
       "    </tr>\n",
       "    <tr>\n",
       "      <th>2</th>\n",
       "      <td>floofer</td>\n",
       "      <td>1.200000</td>\n",
       "    </tr>\n",
       "    <tr>\n",
       "      <th>3</th>\n",
       "      <td>doggo</td>\n",
       "      <td>1.180882</td>\n",
       "    </tr>\n",
       "    <tr>\n",
       "      <th>4</th>\n",
       "      <td>doggo, pupper</td>\n",
       "      <td>1.175000</td>\n",
       "    </tr>\n",
       "  </tbody>\n",
       "</table>\n",
       "</div>"
      ],
      "text/plain": [
       "       dog_stage  rating_average\n",
       "0   doggo, puppo        1.300000\n",
       "1          puppo        1.211111\n",
       "2        floofer        1.200000\n",
       "3          doggo        1.180882\n",
       "4  doggo, pupper        1.175000"
      ]
     },
     "execution_count": 84,
     "metadata": {},
     "output_type": "execute_result"
    }
   ],
   "source": [
    "#The top 5 dog stages based on the average number of ratings \n",
    "top_dog_stages(col=\"rating\") #On average the dog stage doggo, puppo had higher rating score than 'puppo'"
   ]
  },
  {
   "cell_type": "code",
   "execution_count": 85,
   "id": "7623f022",
   "metadata": {},
   "outputs": [
    {
     "data": {
      "text/html": [
       "<div>\n",
       "<style scoped>\n",
       "    .dataframe tbody tr th:only-of-type {\n",
       "        vertical-align: middle;\n",
       "    }\n",
       "\n",
       "    .dataframe tbody tr th {\n",
       "        vertical-align: top;\n",
       "    }\n",
       "\n",
       "    .dataframe thead th {\n",
       "        text-align: right;\n",
       "    }\n",
       "</style>\n",
       "<table border=\"1\" class=\"dataframe\">\n",
       "  <thead>\n",
       "    <tr style=\"text-align: right;\">\n",
       "      <th></th>\n",
       "      <th>dog_stage</th>\n",
       "      <th>favorite_count_average</th>\n",
       "    </tr>\n",
       "  </thead>\n",
       "  <tbody>\n",
       "    <tr>\n",
       "      <th>0</th>\n",
       "      <td>doggo, floofer</td>\n",
       "      <td>17169.000000</td>\n",
       "    </tr>\n",
       "    <tr>\n",
       "      <th>1</th>\n",
       "      <td>doggo, puppo</td>\n",
       "      <td>16304.000000</td>\n",
       "    </tr>\n",
       "    <tr>\n",
       "      <th>2</th>\n",
       "      <td>puppo</td>\n",
       "      <td>12463.952381</td>\n",
       "    </tr>\n",
       "    <tr>\n",
       "      <th>3</th>\n",
       "      <td>doggo</td>\n",
       "      <td>10634.732143</td>\n",
       "    </tr>\n",
       "    <tr>\n",
       "      <th>4</th>\n",
       "      <td>floofer</td>\n",
       "      <td>9849.500000</td>\n",
       "    </tr>\n",
       "  </tbody>\n",
       "</table>\n",
       "</div>"
      ],
      "text/plain": [
       "        dog_stage  favorite_count_average\n",
       "0  doggo, floofer            17169.000000\n",
       "1    doggo, puppo            16304.000000\n",
       "2           puppo            12463.952381\n",
       "3           doggo            10634.732143\n",
       "4         floofer             9849.500000"
      ]
     },
     "execution_count": 85,
     "metadata": {},
     "output_type": "execute_result"
    }
   ],
   "source": [
    "#top 5 dog stages based on the average number of likes\n",
    "top_dog_stages(col=\"favorite_count\") #doggo, floofer had the highest numebr of likes on average"
   ]
  },
  {
   "cell_type": "code",
   "execution_count": 86,
   "id": "ffbabc45",
   "metadata": {},
   "outputs": [
    {
     "data": {
      "image/png": "[encoded data removed]",
      "text/plain": [
       "<Figure size 720x864 with 2 Axes>"
      ]
     },
     "metadata": {
      "needs_background": "light"
     },
     "output_type": "display_data"
    }
   ],
   "source": [
    "#The results from the two tables are visualized below\n",
    "fig,ax=plt.subplots(2,1,figsize=(10,12))\n",
    "fig.subplots_adjust(hspace=0.5, wspace=0.4)\n",
    "top_dog_stages().plot(kind=\"barh\",x=\"dog_stage\",y=\"rating_average\",title=\"Dog Stages with the highest average score\",\n",
    "                      rot=30,legend=False,ax=ax[0])\n",
    "ax[0].set(xlabel=\"Average Rating\")\n",
    "top_dog_stages(col=\"favorite_count\").plot(kind=\"barh\",x=\"dog_stage\",y=\"favorite_count_average\",rot=30,\n",
    "                                          title=\"Dog Stages with the highest average number of 'likes'\",legend=False,\n",
    "                                         ax=ax[1])\n",
    "\n",
    "ax[1].set(xlabel=\"Average number of 'likes'\")\n",
    "plt.savefig(\"dog_stages.png\")"
   ]
  },
  {
   "cell_type": "markdown",
   "id": "2d373da7",
   "metadata": {},
   "source": [
    ">* Are the ratings, 'likes', number of retweets correlated to each other?\n",
    "To answer this question the correaltion matrix is very useful here. i'd expect that the number of retweets and the number 'likes' would be correlated and the ratings with the number of 'likes'"
   ]
  },
  {
   "cell_type": "code",
   "execution_count": 87,
   "id": "4096edaf",
   "metadata": {},
   "outputs": [
    {
     "data": {
      "text/plain": [
       "<seaborn.axisgrid.PairGrid at 0x7fa9f9f6c2b0>"
      ]
     },
     "execution_count": 87,
     "metadata": {},
     "output_type": "execute_result"
    },
    {
     "data": {
      "text/plain": [
       "<Figure size 720x720 with 0 Axes>"
      ]
     },
     "metadata": {},
     "output_type": "display_data"
    },
    {
     "data": {
      "image/png": "[encoded data removed]",
      "text/plain": [
       "<Figure size 540x540 with 12 Axes>"
      ]
     },
     "metadata": {
      "needs_background": "light"
     },
     "output_type": "display_data"
    }
   ],
   "source": [
    "#let's first view the relationships between these variables graphically\n",
    "plt.figure(figsize=(10,10))\n",
    "corr_matrix=sns.pairplot(df_master,vars=[\"rating\",\"favorite_count\",\"retweet_count\"]); #correlation between retweets and \n",
    "#number of likes is obvious\n",
    "corr_matrix"
   ]
  },
  {
   "cell_type": "code",
   "execution_count": 88,
   "id": "b80eefb2",
   "metadata": {},
   "outputs": [
    {
     "name": "stdout",
     "output_type": "stream",
     "text": [
      "The Correlation Matrix is:\n"
     ]
    },
    {
     "data": {
      "text/html": [
       "<div>\n",
       "<style scoped>\n",
       "    .dataframe tbody tr th:only-of-type {\n",
       "        vertical-align: middle;\n",
       "    }\n",
       "\n",
       "    .dataframe tbody tr th {\n",
       "        vertical-align: top;\n",
       "    }\n",
       "\n",
       "    .dataframe thead th {\n",
       "        text-align: right;\n",
       "    }\n",
       "</style>\n",
       "<table border=\"1\" class=\"dataframe\">\n",
       "  <thead>\n",
       "    <tr style=\"text-align: right;\">\n",
       "      <th></th>\n",
       "      <th>retweet_count</th>\n",
       "      <th>favorite_count</th>\n",
       "      <th>rating</th>\n",
       "    </tr>\n",
       "  </thead>\n",
       "  <tbody>\n",
       "    <tr>\n",
       "      <th>retweet_count</th>\n",
       "      <td>1.000000</td>\n",
       "      <td>0.912947</td>\n",
       "      <td>0.018726</td>\n",
       "    </tr>\n",
       "    <tr>\n",
       "      <th>favorite_count</th>\n",
       "      <td>0.912947</td>\n",
       "      <td>1.000000</td>\n",
       "      <td>0.016166</td>\n",
       "    </tr>\n",
       "    <tr>\n",
       "      <th>rating</th>\n",
       "      <td>0.018726</td>\n",
       "      <td>0.016166</td>\n",
       "      <td>1.000000</td>\n",
       "    </tr>\n",
       "  </tbody>\n",
       "</table>\n",
       "</div>"
      ],
      "text/plain": [
       "                retweet_count  favorite_count    rating\n",
       "retweet_count        1.000000        0.912947  0.018726\n",
       "favorite_count       0.912947        1.000000  0.016166\n",
       "rating               0.018726        0.016166  1.000000"
      ]
     },
     "execution_count": 88,
     "metadata": {},
     "output_type": "execute_result"
    }
   ],
   "source": [
    "print(\"The Correlation Matrix is:\")\n",
    "correlation=df_master[[\"retweet_count\",\"favorite_count\",\"rating\"]].corr(method=\"pearson\")\n",
    "correlation #prints the correlation between variables\n",
    "\n"
   ]
  },
  {
   "cell_type": "code",
   "execution_count": 89,
   "id": "e05506fd",
   "metadata": {},
   "outputs": [
    {
     "data": {
      "image/png": "[encoded data removed]",
      "text/plain": [
       "<Figure size 720x576 with 2 Axes>"
      ]
     },
     "metadata": {
      "needs_background": "light"
     },
     "output_type": "display_data"
    }
   ],
   "source": [
    "plt.figure(figsize=(10,8))#Visualize the corrrelation matrix via heatmap\n",
    "sns.heatmap(correlation,xticklabels=correlation.columns,yticklabels=correlation.columns)#prints the heatmap \n",
    "#of the correlation\n",
    "plt.title(\"Heatmap\");"
   ]
  },
  {
   "cell_type": "markdown",
   "id": "f8a087ce",
   "metadata": {},
   "source": [
    ">As we can see from the correlation matrix that the number of retweets and the number of 'likes' are correlated\n",
    "(approximately 0.91). However the number of 'likes' and ratings are not strongly correlated, i.e, there is a weak linear relationship between these two features. This does not imply that these two features are not related. For example there might be a quadratic relationship between these two features) or indeed these two features are not related at all"
   ]
  },
  {
   "cell_type": "markdown",
   "id": "62be212c",
   "metadata": {},
   "source": [
    ">In question 3 we saw that average rating for the dog stage `doggo, poppo` was larger than for the dog stage `puppo`. We want to see if there is a statistical significamce between the averages of these dog stages, i.e., we want to check $$H_{o}: \\mu_{dp}\\leq \\mu_{puppo}\\hspace{0.5cm} H_{1}:\\mu_{dp}> \\mu_{puppo} $$"
   ]
  },
  {
   "cell_type": "code",
   "execution_count": 90,
   "id": "e31a06fa",
   "metadata": {},
   "outputs": [],
   "source": [
    "np.random.seed(42)\n",
    "mask=df_master[\"dog_stage\"].notnull()\n",
    "dog_sample=df_master[mask][[\"dog_stage\",\"rating\",\"favorite_count\"]].sample(200)\n",
    "doggo_puppo=[]\n",
    "puppo=[]\n",
    "diff_mean=[]\n",
    "B=10000\n",
    "for _ in range(B):\n",
    "    bootstrap=dog_sample.sample(200,replace=True)#samples with replacement\n",
    "    dp=bootstrap[bootstrap.dog_stage==\"doggo, puppo\"][\"rating\"].mean()#computes rating mean for \"doggo, puppo\"\n",
    "    p=bootstrap[bootstrap.dog_stage==\"puppo\"][\"rating\"].mean()#computes rating mean for \"puppo\"\n",
    "    doggo_puppo.append(dp)\n",
    "    puppo.append(p)\n",
    "    diff_mean.append(dp-p)\n",
    "    \n",
    "    "
   ]
  },
  {
   "cell_type": "code",
   "execution_count": 91,
   "id": "b299b7dd",
   "metadata": {},
   "outputs": [
    {
     "data": {
      "image/png": "[encoded data removed]",
      "text/plain": [
       "<Figure size 432x288 with 1 Axes>"
      ]
     },
     "metadata": {
      "needs_background": "light"
     },
     "output_type": "display_data"
    }
   ],
   "source": [
    "plt.hist(doggo_puppo,alpha=0.5,label=\"doggo, puppo\",bins=[1.3,1.32,1.34,1.36,1.38,1.40,1.42])\n",
    "plt.hist(puppo,alpha=0.5,label=\"puppo\")\n",
    "plt.legend() #The bellow picture suggests that there will be statistically significant difference\n",
    "plt.title(\"Comparison of distributions of each dog stage\");"
   ]
  },
  {
   "cell_type": "code",
   "execution_count": 92,
   "id": "603a59d8",
   "metadata": {},
   "outputs": [
    {
     "data": {
      "text/plain": [
       "0.0015"
      ]
     },
     "execution_count": 92,
     "metadata": {},
     "output_type": "execute_result"
    }
   ],
   "source": [
    "np.random.seed(42)\n",
    "std=pd.Series(diff_mean).std()\n",
    "null_val=np.random.normal(0,std,size=10000)#distrubution of averages under Ho\n",
    "diff_sample=top_dog_stages().loc[0,\"rating_average\"]-top_dog_stages().loc[1,\"rating_average\"]\n",
    "(null_val>diff_sample).mean()"
   ]
  },
  {
   "cell_type": "markdown",
   "id": "1d0a10aa",
   "metadata": {},
   "source": [
    "At the level of significance $\\alpha=5\\%$ we reject $H_{o}$ since the $p$-value is less than 0.05"
   ]
  }
 ],
 "metadata": {
  "kernelspec": {
   "display_name": "Python 3",
   "language": "python",
   "name": "python3"
  },
  "language_info": {
   "codemirror_mode": {
    "name": "ipython",
    "version": 3
   },
   "file_extension": ".py",
   "mimetype": "text/x-python",
   "name": "python",
   "nbconvert_exporter": "python",
   "pygments_lexer": "ipython3",
   "version": "3.8.10"
  }
 },
 "nbformat": 4,
 "nbformat_minor": 5
}
